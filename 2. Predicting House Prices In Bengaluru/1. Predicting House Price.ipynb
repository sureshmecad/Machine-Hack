{
 "cells": [
  {
   "cell_type": "markdown",
   "metadata": {},
   "source": [
    "<h2 style=\"color:blue\" align=\"left\"> Predicting House Prices In Bengaluru </h2>"
   ]
  },
  {
   "cell_type": "markdown",
   "metadata": {},
   "source": [
    "- What are the things that a potential home buyer considers before purchasing a house? The location, the size of the property, vicinity to offices, schools, parks, restaurants, hospitals or the stereotypical white picket fence? What about the most important factor -- the price? Now with the lingering impact of demonetization, the enforcement of the Real Estate (Regulation and Development) Act (RERA), and the lack of trust in property developers in the city, housing units sold across India in 2017 dropped by 7 percent. In fact, the property prices in Bengaluru fell by almost 5 percent in the second half of 2017, said a study published by property consultancy Knight Frank. For example, for a potential homeowner, over 9,000 apartment projects and flats for sale are available in the range of ₹42-52 lakh, followed by over 7,100 apartments that are in the ₹52-62 lakh budget segment, says a report by property website Makaan. According to the study, there are over 5,000 projects in the ₹15-25 lakh budget segment followed by those in the ₹34-43 lakh budget category. Buying a home, especially in a city like Bengaluru, is a tricky choice. While the major factors are usually the same for all metros, there are others to be considered for the Silicon Valley of India. With its help millennial crowd, vibrant culture, great climate and a slew of job opportunities, it is difficult to ascertain the price of a house in Bengaluru.   So what determines the property prices in Namma Bengaluru?\n",
    "\n",
    "\n",
    "- **Data : The train and test** data will consist of various features that describe that property in Bengaluru. This is an actual data set that is curated over months of primary & secondary research by our team. Each row contains fixed size object of features.\n",
    "\n",
    "\n",
    "- There are 9 features and each feature can be accessed by its name. \n",
    "\n",
    "|Feature          |Description                                                                                                |\n",
    "|---------------  |-----------------------------------------------------------------------------------------------------------|\n",
    "|Area_type        |Describes the area Availability - when it can be possessed or when it is ready(categorical and time-series)|\n",
    "|Location         |where it is located in Bengaluru                                                                           |\n",
    "|Price            |Value of the property in lakhs(INR)                                                                        |\n",
    "|Size             |in BHK or Bedroom (1-10 or more)                                                                           |\n",
    "|Society          |to which society it belongs                                                                                |\n",
    "|Total_sqft       |size of the property in sq.ft                                                                              |\n",
    "|Bath             |No. of bathrooms                                                                                           |\n",
    "|Balcony          |No. of the balcony                                                                                         |\n",
    "\n",
    "\n",
    "- Problem Statement With the given **9 features(categorical and continuous)** build a model to **predict the price of houses in Bengaluru.**"
   ]
  },
  {
   "cell_type": "markdown",
   "metadata": {},
   "source": [
    "<h2 style=\"color:blue\" align=\"left\"> 1. Import necessary Libraries </h2>"
   ]
  },
  {
   "cell_type": "code",
   "execution_count": 45,
   "metadata": {},
   "outputs": [],
   "source": [
    "# Read Data\n",
    "import numpy as np     # Linear Algebra (calculate the mean and standard deviation)\n",
    "import pandas as pd    # manipulate data, data processing, load csv file I/O (e.g. pd.read_csv)\n",
    "from scipy import stats\n",
    "from scipy.stats import norm\n",
    "\n",
    "# Visualization\n",
    "import seaborn as sns                  # Visualization using seaborn\n",
    "import matplotlib.pyplot as plt        # Visualization using matplotlib\n",
    "%matplotlib inline\n",
    "\n",
    "# style\n",
    "plt.style.use(\"fivethirtyeight\")       # Set Graphs Background style using matplotlib\n",
    "sns.set_style(\"darkgrid\")              # Set Graphs Background style using seaborn\n",
    "\n",
    "import warnings                                                          # Ignore Warnings\n",
    "warnings.filterwarnings(\"ignore\")"
   ]
  },
  {
   "cell_type": "code",
   "execution_count": 53,
   "metadata": {},
   "outputs": [],
   "source": [
    "from sklearn.preprocessing import LabelEncoder\n",
    "from sklearn.model_selection import train_test_split\n",
    "from sklearn.linear_model import LinearRegression, Lasso, Ridge\n",
    "from sklearn.ensemble import RandomForestRegressor\n",
    "import xgboost\n",
    "from xgboost import XGBRegressor\n",
    "import lightgbm as lgb\n",
    "from lightgbm import LGBMRegressor\n",
    "from sklearn.metrics import accuracy_score"
   ]
  },
  {
   "cell_type": "markdown",
   "metadata": {},
   "source": [
    "<h2 style=\"color:blue\" align=\"left\"> 2. Load data </h2>"
   ]
  },
  {
   "cell_type": "code",
   "execution_count": 3,
   "metadata": {},
   "outputs": [],
   "source": [
    "train = pd.read_csv(\"Train.csv\")\n",
    "test = pd.read_csv(\"Test.csv\")"
   ]
  },
  {
   "cell_type": "code",
   "execution_count": 4,
   "metadata": {},
   "outputs": [
    {
     "data": {
      "text/html": [
       "<div>\n",
       "<style scoped>\n",
       "    .dataframe tbody tr th:only-of-type {\n",
       "        vertical-align: middle;\n",
       "    }\n",
       "\n",
       "    .dataframe tbody tr th {\n",
       "        vertical-align: top;\n",
       "    }\n",
       "\n",
       "    .dataframe thead th {\n",
       "        text-align: right;\n",
       "    }\n",
       "</style>\n",
       "<table border=\"1\" class=\"dataframe\">\n",
       "  <thead>\n",
       "    <tr style=\"text-align: right;\">\n",
       "      <th></th>\n",
       "      <th>area_type</th>\n",
       "      <th>availability</th>\n",
       "      <th>location</th>\n",
       "      <th>size</th>\n",
       "      <th>society</th>\n",
       "      <th>total_sqft</th>\n",
       "      <th>bath</th>\n",
       "      <th>balcony</th>\n",
       "      <th>price</th>\n",
       "    </tr>\n",
       "  </thead>\n",
       "  <tbody>\n",
       "    <tr>\n",
       "      <th>0</th>\n",
       "      <td>Super built-up  Area</td>\n",
       "      <td>19-Dec</td>\n",
       "      <td>Electronic City Phase II</td>\n",
       "      <td>2 BHK</td>\n",
       "      <td>Coomee</td>\n",
       "      <td>1056</td>\n",
       "      <td>2.0</td>\n",
       "      <td>1.0</td>\n",
       "      <td>39.07</td>\n",
       "    </tr>\n",
       "    <tr>\n",
       "      <th>1</th>\n",
       "      <td>Plot  Area</td>\n",
       "      <td>Ready To Move</td>\n",
       "      <td>Chikka Tirupathi</td>\n",
       "      <td>4 Bedroom</td>\n",
       "      <td>Theanmp</td>\n",
       "      <td>2600</td>\n",
       "      <td>5.0</td>\n",
       "      <td>3.0</td>\n",
       "      <td>120.00</td>\n",
       "    </tr>\n",
       "    <tr>\n",
       "      <th>2</th>\n",
       "      <td>Built-up  Area</td>\n",
       "      <td>Ready To Move</td>\n",
       "      <td>Uttarahalli</td>\n",
       "      <td>3 BHK</td>\n",
       "      <td>NaN</td>\n",
       "      <td>1440</td>\n",
       "      <td>2.0</td>\n",
       "      <td>3.0</td>\n",
       "      <td>62.00</td>\n",
       "    </tr>\n",
       "    <tr>\n",
       "      <th>3</th>\n",
       "      <td>Super built-up  Area</td>\n",
       "      <td>Ready To Move</td>\n",
       "      <td>Lingadheeranahalli</td>\n",
       "      <td>3 BHK</td>\n",
       "      <td>Soiewre</td>\n",
       "      <td>1521</td>\n",
       "      <td>3.0</td>\n",
       "      <td>1.0</td>\n",
       "      <td>95.00</td>\n",
       "    </tr>\n",
       "    <tr>\n",
       "      <th>4</th>\n",
       "      <td>Super built-up  Area</td>\n",
       "      <td>Ready To Move</td>\n",
       "      <td>Kothanur</td>\n",
       "      <td>2 BHK</td>\n",
       "      <td>NaN</td>\n",
       "      <td>1200</td>\n",
       "      <td>2.0</td>\n",
       "      <td>1.0</td>\n",
       "      <td>51.00</td>\n",
       "    </tr>\n",
       "  </tbody>\n",
       "</table>\n",
       "</div>"
      ],
      "text/plain": [
       "              area_type   availability                  location       size  \\\n",
       "0  Super built-up  Area         19-Dec  Electronic City Phase II      2 BHK   \n",
       "1            Plot  Area  Ready To Move          Chikka Tirupathi  4 Bedroom   \n",
       "2        Built-up  Area  Ready To Move               Uttarahalli      3 BHK   \n",
       "3  Super built-up  Area  Ready To Move        Lingadheeranahalli      3 BHK   \n",
       "4  Super built-up  Area  Ready To Move                  Kothanur      2 BHK   \n",
       "\n",
       "   society total_sqft  bath  balcony   price  \n",
       "0  Coomee        1056   2.0      1.0   39.07  \n",
       "1  Theanmp       2600   5.0      3.0  120.00  \n",
       "2      NaN       1440   2.0      3.0   62.00  \n",
       "3  Soiewre       1521   3.0      1.0   95.00  \n",
       "4      NaN       1200   2.0      1.0   51.00  "
      ]
     },
     "metadata": {},
     "output_type": "display_data"
    },
    {
     "data": {
      "text/html": [
       "<div>\n",
       "<style scoped>\n",
       "    .dataframe tbody tr th:only-of-type {\n",
       "        vertical-align: middle;\n",
       "    }\n",
       "\n",
       "    .dataframe tbody tr th {\n",
       "        vertical-align: top;\n",
       "    }\n",
       "\n",
       "    .dataframe thead th {\n",
       "        text-align: right;\n",
       "    }\n",
       "</style>\n",
       "<table border=\"1\" class=\"dataframe\">\n",
       "  <thead>\n",
       "    <tr style=\"text-align: right;\">\n",
       "      <th></th>\n",
       "      <th>area_type</th>\n",
       "      <th>availability</th>\n",
       "      <th>location</th>\n",
       "      <th>size</th>\n",
       "      <th>society</th>\n",
       "      <th>total_sqft</th>\n",
       "      <th>bath</th>\n",
       "      <th>balcony</th>\n",
       "      <th>price</th>\n",
       "    </tr>\n",
       "  </thead>\n",
       "  <tbody>\n",
       "    <tr>\n",
       "      <th>0</th>\n",
       "      <td>Super built-up  Area</td>\n",
       "      <td>Ready To Move</td>\n",
       "      <td>Brookefield</td>\n",
       "      <td>2 BHK</td>\n",
       "      <td>Roeekbl</td>\n",
       "      <td>1225</td>\n",
       "      <td>2.0</td>\n",
       "      <td>2.0</td>\n",
       "      <td>NaN</td>\n",
       "    </tr>\n",
       "    <tr>\n",
       "      <th>1</th>\n",
       "      <td>Plot  Area</td>\n",
       "      <td>Ready To Move</td>\n",
       "      <td>Akshaya Nagar</td>\n",
       "      <td>9 Bedroom</td>\n",
       "      <td>NaN</td>\n",
       "      <td>2400</td>\n",
       "      <td>9.0</td>\n",
       "      <td>2.0</td>\n",
       "      <td>NaN</td>\n",
       "    </tr>\n",
       "    <tr>\n",
       "      <th>2</th>\n",
       "      <td>Plot  Area</td>\n",
       "      <td>18-Apr</td>\n",
       "      <td>Hennur Road</td>\n",
       "      <td>4 Bedroom</td>\n",
       "      <td>Saandtt</td>\n",
       "      <td>1650</td>\n",
       "      <td>5.0</td>\n",
       "      <td>2.0</td>\n",
       "      <td>NaN</td>\n",
       "    </tr>\n",
       "    <tr>\n",
       "      <th>3</th>\n",
       "      <td>Super built-up  Area</td>\n",
       "      <td>Ready To Move</td>\n",
       "      <td>Kodichikkanahalli</td>\n",
       "      <td>3 BHK</td>\n",
       "      <td>Winerri</td>\n",
       "      <td>1322</td>\n",
       "      <td>3.0</td>\n",
       "      <td>1.0</td>\n",
       "      <td>NaN</td>\n",
       "    </tr>\n",
       "    <tr>\n",
       "      <th>4</th>\n",
       "      <td>Super built-up  Area</td>\n",
       "      <td>Ready To Move</td>\n",
       "      <td>Konanakunte</td>\n",
       "      <td>2 BHK</td>\n",
       "      <td>AmageSa</td>\n",
       "      <td>1161</td>\n",
       "      <td>2.0</td>\n",
       "      <td>1.0</td>\n",
       "      <td>NaN</td>\n",
       "    </tr>\n",
       "  </tbody>\n",
       "</table>\n",
       "</div>"
      ],
      "text/plain": [
       "              area_type   availability           location       size  society  \\\n",
       "0  Super built-up  Area  Ready To Move        Brookefield      2 BHK  Roeekbl   \n",
       "1            Plot  Area  Ready To Move      Akshaya Nagar  9 Bedroom      NaN   \n",
       "2            Plot  Area         18-Apr        Hennur Road  4 Bedroom  Saandtt   \n",
       "3  Super built-up  Area  Ready To Move  Kodichikkanahalli      3 BHK  Winerri   \n",
       "4  Super built-up  Area  Ready To Move        Konanakunte      2 BHK  AmageSa   \n",
       "\n",
       "  total_sqft  bath  balcony  price  \n",
       "0       1225   2.0      2.0    NaN  \n",
       "1       2400   9.0      2.0    NaN  \n",
       "2       1650   5.0      2.0    NaN  \n",
       "3       1322   3.0      1.0    NaN  \n",
       "4       1161   2.0      1.0    NaN  "
      ]
     },
     "metadata": {},
     "output_type": "display_data"
    }
   ],
   "source": [
    "display(train.head())\n",
    "display(test.head())"
   ]
  },
  {
   "cell_type": "code",
   "execution_count": 5,
   "metadata": {
    "scrolled": false
   },
   "outputs": [
    {
     "data": {
      "text/plain": [
       "(13320, 9)"
      ]
     },
     "metadata": {},
     "output_type": "display_data"
    },
    {
     "data": {
      "text/plain": [
       "(1480, 9)"
      ]
     },
     "metadata": {},
     "output_type": "display_data"
    }
   ],
   "source": [
    "display(train.shape)\n",
    "display(test.shape)"
   ]
  },
  {
   "cell_type": "code",
   "execution_count": 6,
   "metadata": {},
   "outputs": [],
   "source": [
    "train_original = train.copy()\n",
    "test_original = test.copy()"
   ]
  },
  {
   "cell_type": "code",
   "execution_count": 7,
   "metadata": {
    "scrolled": true
   },
   "outputs": [
    {
     "data": {
      "text/plain": [
       "area_type        object\n",
       "availability     object\n",
       "location         object\n",
       "size             object\n",
       "society          object\n",
       "total_sqft       object\n",
       "bath            float64\n",
       "balcony         float64\n",
       "price           float64\n",
       "dtype: object"
      ]
     },
     "metadata": {},
     "output_type": "display_data"
    }
   ],
   "source": [
    "display(train.dtypes)"
   ]
  },
  {
   "cell_type": "code",
   "execution_count": 8,
   "metadata": {
    "scrolled": true
   },
   "outputs": [
    {
     "data": {
      "text/plain": [
       "area_type        object\n",
       "availability     object\n",
       "location         object\n",
       "size             object\n",
       "society          object\n",
       "total_sqft       object\n",
       "bath            float64\n",
       "balcony         float64\n",
       "price           float64\n",
       "dtype: object"
      ]
     },
     "execution_count": 8,
     "metadata": {},
     "output_type": "execute_result"
    }
   ],
   "source": [
    "test.dtypes"
   ]
  },
  {
   "cell_type": "markdown",
   "metadata": {},
   "source": [
    "<h2 style=\"color:blue\" align=\"left\"> 3. EDA (Exploratory Data Analysis) </h2>\n",
    "\n",
    "- EDA is a way of **Visualizing, Summarizing and interpreting** the information that is **hidden in rows and column** format."
   ]
  },
  {
   "cell_type": "markdown",
   "metadata": {},
   "source": [
    "### 1. Find Missing Values"
   ]
  },
  {
   "cell_type": "markdown",
   "metadata": {},
   "source": [
    "#### Mising Value Checking\n",
    "- I use five function for mising value checking\n",
    "   - insull()\n",
    "      - If any value is null return True\n",
    "      - Otherewise return False\n",
    "      \n",
    "   - isnull().any()\n",
    "      - If any columns have null value return True\n",
    "      - Otherewise return False\n",
    "      \n",
    "   - isnull().sum()\n",
    "      - If any columns have null value return how many null values have\n",
    "      - If no null value present return 0\n",
    "      \n",
    "   - missingno()\n",
    "      - Showing values by bar graph\n",
    "      \n",
    "   - Heatmap()\n",
    "      - Showing values by graph"
   ]
  },
  {
   "cell_type": "code",
   "execution_count": 9,
   "metadata": {
    "scrolled": true
   },
   "outputs": [
    {
     "data": {
      "text/plain": [
       "area_type          0\n",
       "availability       0\n",
       "location           1\n",
       "size              16\n",
       "society         5502\n",
       "total_sqft         0\n",
       "bath              73\n",
       "balcony          609\n",
       "price              0\n",
       "dtype: int64"
      ]
     },
     "metadata": {},
     "output_type": "display_data"
    },
    {
     "data": {
      "text/plain": [
       "area_type          0\n",
       "availability       0\n",
       "location           0\n",
       "size               2\n",
       "society          626\n",
       "total_sqft         0\n",
       "bath               7\n",
       "balcony           69\n",
       "price           1480\n",
       "dtype: int64"
      ]
     },
     "metadata": {},
     "output_type": "display_data"
    }
   ],
   "source": [
    "display(train.isnull().sum())\n",
    "display(test.isnull().sum())"
   ]
  },
  {
   "cell_type": "markdown",
   "metadata": {},
   "source": [
    "- society column has lots of missing values, 41.3 %.\n",
    "- Maybe all these house doesn't belong to any society.\n",
    "- Or, because of some data gathering problem these records has missing society value.\n",
    "- Or, it could be both of them."
   ]
  },
  {
   "cell_type": "code",
   "execution_count": 42,
   "metadata": {},
   "outputs": [
    {
     "name": "stdout",
     "output_type": "stream",
     "text": [
      "percentage of Missing Values 'Society' Column In Train dataset : 41 %\n",
      "percentage of Missing Values 'Society' Column In Test dataset : 42 %\n"
     ]
    }
   ],
   "source": [
    "print(\"percentage of Missing Values 'Society' Column In Train dataset :\",int(5502/train.shape[0]*100),\"%\")\n",
    "print(\"percentage of Missing Values 'Society' Column In Test dataset :\",int(626/test.shape[0]*100),\"%\")"
   ]
  },
  {
   "cell_type": "markdown",
   "metadata": {},
   "source": [
    "- **Reason For Missing Values**\n",
    "  - Maybe all these house doesn't belong to any society.\n",
    "  - Or, because of some data gathering problem these records has missing society value."
   ]
  },
  {
   "cell_type": "code",
   "execution_count": 21,
   "metadata": {
    "scrolled": true
   },
   "outputs": [
    {
     "data": {
      "image/png": "[encoded data removed]",
      "text/plain": [
       "<Figure size 1296x720 with 1 Axes>"
      ]
     },
     "metadata": {
      "needs_background": "light"
     },
     "output_type": "display_data"
    }
   ],
   "source": [
    "# Missing value representation by Heatmap\n",
    "plt.figure(figsize=(18,10))\n",
    "sns.heatmap(train.isnull(), yticklabels=False, cbar=False, cmap='viridis')\n",
    "plt.xticks(fontsize=14)\n",
    "plt.title('Count of Missing Values by Heat Map', fontsize=20, fontweight = 'bold')\n",
    "plt.show()"
   ]
  },
  {
   "cell_type": "markdown",
   "metadata": {},
   "source": [
    "### 2. Find Features with one value"
   ]
  },
  {
   "cell_type": "code",
   "execution_count": 22,
   "metadata": {},
   "outputs": [
    {
     "name": "stdout",
     "output_type": "stream",
     "text": [
      "area_type 4\n",
      "availability 81\n",
      "location 1305\n",
      "size 31\n",
      "society 2688\n",
      "total_sqft 2117\n",
      "bath 19\n",
      "balcony 4\n",
      "price 1994\n"
     ]
    }
   ],
   "source": [
    "for column in train.columns:\n",
    "    print(column,train[column].nunique())"
   ]
  },
  {
   "cell_type": "code",
   "execution_count": 23,
   "metadata": {
    "scrolled": true
   },
   "outputs": [
    {
     "name": "stdout",
     "output_type": "stream",
     "text": [
      "area_type 4\n",
      "availability 51\n",
      "location 495\n",
      "size 21\n",
      "society 594\n",
      "total_sqft 666\n",
      "bath 11\n",
      "balcony 4\n",
      "price 0\n"
     ]
    }
   ],
   "source": [
    "for column in test.columns:\n",
    "    print(column,test[column].nunique())"
   ]
  },
  {
   "cell_type": "markdown",
   "metadata": {},
   "source": [
    "- All columns have **more than 1 unique value.** No feature found with one value."
   ]
  },
  {
   "cell_type": "markdown",
   "metadata": {},
   "source": [
    "### 8. Explore the Numerical Features"
   ]
  },
  {
   "cell_type": "code",
   "execution_count": 30,
   "metadata": {
    "scrolled": true
   },
   "outputs": [
    {
     "data": {
      "text/html": [
       "<div>\n",
       "<style scoped>\n",
       "    .dataframe tbody tr th:only-of-type {\n",
       "        vertical-align: middle;\n",
       "    }\n",
       "\n",
       "    .dataframe tbody tr th {\n",
       "        vertical-align: top;\n",
       "    }\n",
       "\n",
       "    .dataframe thead th {\n",
       "        text-align: right;\n",
       "    }\n",
       "</style>\n",
       "<table border=\"1\" class=\"dataframe\">\n",
       "  <thead>\n",
       "    <tr style=\"text-align: right;\">\n",
       "      <th></th>\n",
       "      <th>bath</th>\n",
       "      <th>balcony</th>\n",
       "      <th>price</th>\n",
       "    </tr>\n",
       "  </thead>\n",
       "  <tbody>\n",
       "    <tr>\n",
       "      <th>0</th>\n",
       "      <td>2.0</td>\n",
       "      <td>1.0</td>\n",
       "      <td>39.07</td>\n",
       "    </tr>\n",
       "    <tr>\n",
       "      <th>1</th>\n",
       "      <td>5.0</td>\n",
       "      <td>3.0</td>\n",
       "      <td>120.00</td>\n",
       "    </tr>\n",
       "    <tr>\n",
       "      <th>2</th>\n",
       "      <td>2.0</td>\n",
       "      <td>3.0</td>\n",
       "      <td>62.00</td>\n",
       "    </tr>\n",
       "    <tr>\n",
       "      <th>3</th>\n",
       "      <td>3.0</td>\n",
       "      <td>1.0</td>\n",
       "      <td>95.00</td>\n",
       "    </tr>\n",
       "    <tr>\n",
       "      <th>4</th>\n",
       "      <td>2.0</td>\n",
       "      <td>1.0</td>\n",
       "      <td>51.00</td>\n",
       "    </tr>\n",
       "    <tr>\n",
       "      <th>...</th>\n",
       "      <td>...</td>\n",
       "      <td>...</td>\n",
       "      <td>...</td>\n",
       "    </tr>\n",
       "    <tr>\n",
       "      <th>13315</th>\n",
       "      <td>4.0</td>\n",
       "      <td>0.0</td>\n",
       "      <td>231.00</td>\n",
       "    </tr>\n",
       "    <tr>\n",
       "      <th>13316</th>\n",
       "      <td>5.0</td>\n",
       "      <td>NaN</td>\n",
       "      <td>400.00</td>\n",
       "    </tr>\n",
       "    <tr>\n",
       "      <th>13317</th>\n",
       "      <td>2.0</td>\n",
       "      <td>1.0</td>\n",
       "      <td>60.00</td>\n",
       "    </tr>\n",
       "    <tr>\n",
       "      <th>13318</th>\n",
       "      <td>4.0</td>\n",
       "      <td>1.0</td>\n",
       "      <td>488.00</td>\n",
       "    </tr>\n",
       "    <tr>\n",
       "      <th>13319</th>\n",
       "      <td>1.0</td>\n",
       "      <td>1.0</td>\n",
       "      <td>17.00</td>\n",
       "    </tr>\n",
       "  </tbody>\n",
       "</table>\n",
       "<p>13320 rows × 3 columns</p>\n",
       "</div>"
      ],
      "text/plain": [
       "       bath  balcony   price\n",
       "0       2.0      1.0   39.07\n",
       "1       5.0      3.0  120.00\n",
       "2       2.0      3.0   62.00\n",
       "3       3.0      1.0   95.00\n",
       "4       2.0      1.0   51.00\n",
       "...     ...      ...     ...\n",
       "13315   4.0      0.0  231.00\n",
       "13316   5.0      NaN  400.00\n",
       "13317   2.0      1.0   60.00\n",
       "13318   4.0      1.0  488.00\n",
       "13319   1.0      1.0   17.00\n",
       "\n",
       "[13320 rows x 3 columns]"
      ]
     },
     "execution_count": 30,
     "metadata": {},
     "output_type": "execute_result"
    }
   ],
   "source": [
    "numerical_features = train.select_dtypes(exclude='object')\n",
    "numerical_features"
   ]
  },
  {
   "cell_type": "markdown",
   "metadata": {},
   "source": [
    "### 9. Find Discrete Numerical Features"
   ]
  },
  {
   "cell_type": "code",
   "execution_count": 31,
   "metadata": {},
   "outputs": [
    {
     "name": "stdout",
     "output_type": "stream",
     "text": [
      "Discrete Variables Count: 2\n"
     ]
    }
   ],
   "source": [
    "discrete_feature = [feature for feature in numerical_features if len(train[feature].unique())<25]\n",
    "print(\"Discrete Variables Count: {}\".format(len(discrete_feature)))"
   ]
  },
  {
   "cell_type": "markdown",
   "metadata": {},
   "source": [
    "### 10. Find Continous Numerical Features"
   ]
  },
  {
   "cell_type": "code",
   "execution_count": 32,
   "metadata": {},
   "outputs": [
    {
     "name": "stdout",
     "output_type": "stream",
     "text": [
      "Continuous feature Count 0\n"
     ]
    }
   ],
   "source": [
    "continuous_features = [feature for feature in numerical_features if feature not in discrete_feature+['price']]\n",
    "print(\"Continuous feature Count {}\".format(len(continuous_features)))"
   ]
  },
  {
   "cell_type": "markdown",
   "metadata": {},
   "source": [
    "### 11. Distribution of Continous Numerical Features (Ingredients)"
   ]
  },
  {
   "cell_type": "code",
   "execution_count": 25,
   "metadata": {
    "collapsed": true
   },
   "outputs": [
    {
     "ename": "TypeError",
     "evalue": "can't multiply sequence by non-int of type 'float'",
     "output_type": "error",
     "traceback": [
      "\u001b[1;31m---------------------------------------------------------------------------\u001b[0m",
      "\u001b[1;31mTypeError\u001b[0m                                 Traceback (most recent call last)",
      "\u001b[1;32m<ipython-input-25-640bb9f6cc7a>\u001b[0m in \u001b[0;36m<module>\u001b[1;34m\u001b[0m\n\u001b[0;32m      9\u001b[0m \u001b[1;32mfor\u001b[0m \u001b[0mi\u001b[0m\u001b[1;33m,\u001b[0m\u001b[0mj\u001b[0m\u001b[1;33m,\u001b[0m\u001b[0mk\u001b[0m \u001b[1;32min\u001b[0m \u001b[0mitertools\u001b[0m\u001b[1;33m.\u001b[0m\u001b[0mzip_longest\u001b[0m\u001b[1;33m(\u001b[0m\u001b[0mcolumns\u001b[0m\u001b[1;33m,\u001b[0m \u001b[0mrange\u001b[0m\u001b[1;33m(\u001b[0m\u001b[0mlength\u001b[0m\u001b[1;33m)\u001b[0m\u001b[1;33m,\u001b[0m\u001b[0mcs\u001b[0m\u001b[1;33m)\u001b[0m\u001b[1;33m:\u001b[0m\u001b[1;33m\u001b[0m\u001b[1;33m\u001b[0m\u001b[0m\n\u001b[0;32m     10\u001b[0m     \u001b[0mplt\u001b[0m\u001b[1;33m.\u001b[0m\u001b[0msubplot\u001b[0m\u001b[1;33m(\u001b[0m\u001b[1;36m4\u001b[0m\u001b[1;33m,\u001b[0m\u001b[1;36m2\u001b[0m\u001b[1;33m,\u001b[0m\u001b[0mj\u001b[0m\u001b[1;33m+\u001b[0m\u001b[1;36m1\u001b[0m\u001b[1;33m)\u001b[0m\u001b[1;33m\u001b[0m\u001b[1;33m\u001b[0m\u001b[0m\n\u001b[1;32m---> 11\u001b[1;33m     \u001b[0max\u001b[0m \u001b[1;33m=\u001b[0m \u001b[0msns\u001b[0m\u001b[1;33m.\u001b[0m\u001b[0mdistplot\u001b[0m\u001b[1;33m(\u001b[0m\u001b[0mtrain\u001b[0m\u001b[1;33m[\u001b[0m\u001b[0mi\u001b[0m\u001b[1;33m]\u001b[0m\u001b[1;33m,\u001b[0m \u001b[0mcolor\u001b[0m\u001b[1;33m=\u001b[0m\u001b[0mk\u001b[0m\u001b[1;33m,\u001b[0m \u001b[0mrug\u001b[0m\u001b[1;33m=\u001b[0m\u001b[1;32mTrue\u001b[0m\u001b[1;33m)\u001b[0m\u001b[1;33m\u001b[0m\u001b[1;33m\u001b[0m\u001b[0m\n\u001b[0m\u001b[0;32m     12\u001b[0m     \u001b[0max\u001b[0m\u001b[1;33m.\u001b[0m\u001b[0mset_facecolor\u001b[0m\u001b[1;33m(\u001b[0m\u001b[1;34m\"w\"\u001b[0m\u001b[1;33m)\u001b[0m\u001b[1;33m\u001b[0m\u001b[1;33m\u001b[0m\u001b[0m\n\u001b[0;32m     13\u001b[0m     \u001b[0mplt\u001b[0m\u001b[1;33m.\u001b[0m\u001b[0maxvline\u001b[0m\u001b[1;33m(\u001b[0m\u001b[0mdf\u001b[0m\u001b[1;33m[\u001b[0m\u001b[0mi\u001b[0m\u001b[1;33m]\u001b[0m\u001b[1;33m.\u001b[0m\u001b[0mmean\u001b[0m\u001b[1;33m(\u001b[0m\u001b[1;33m)\u001b[0m\u001b[1;33m,\u001b[0m \u001b[0mlinestyle\u001b[0m\u001b[1;33m=\u001b[0m\u001b[1;34m\"dashed\"\u001b[0m\u001b[1;33m,\u001b[0m \u001b[0mlabel\u001b[0m\u001b[1;33m=\u001b[0m\u001b[1;34m\"mean\"\u001b[0m\u001b[1;33m,\u001b[0m \u001b[0mcolor\u001b[0m\u001b[1;33m=\u001b[0m\u001b[1;34m\"k\"\u001b[0m\u001b[1;33m)\u001b[0m\u001b[1;33m\u001b[0m\u001b[1;33m\u001b[0m\u001b[0m\n",
      "\u001b[1;32m~\\Anaconda3\\lib\\site-packages\\seaborn\\distributions.py\u001b[0m in \u001b[0;36mdistplot\u001b[1;34m(a, bins, hist, kde, rug, fit, hist_kws, kde_kws, rug_kws, fit_kws, color, vertical, norm_hist, axlabel, label, ax)\u001b[0m\n\u001b[0;32m    213\u001b[0m     \u001b[1;32mif\u001b[0m \u001b[0mhist\u001b[0m\u001b[1;33m:\u001b[0m\u001b[1;33m\u001b[0m\u001b[1;33m\u001b[0m\u001b[0m\n\u001b[0;32m    214\u001b[0m         \u001b[1;32mif\u001b[0m \u001b[0mbins\u001b[0m \u001b[1;32mis\u001b[0m \u001b[1;32mNone\u001b[0m\u001b[1;33m:\u001b[0m\u001b[1;33m\u001b[0m\u001b[1;33m\u001b[0m\u001b[0m\n\u001b[1;32m--> 215\u001b[1;33m             \u001b[0mbins\u001b[0m \u001b[1;33m=\u001b[0m \u001b[0mmin\u001b[0m\u001b[1;33m(\u001b[0m\u001b[0m_freedman_diaconis_bins\u001b[0m\u001b[1;33m(\u001b[0m\u001b[0ma\u001b[0m\u001b[1;33m)\u001b[0m\u001b[1;33m,\u001b[0m \u001b[1;36m50\u001b[0m\u001b[1;33m)\u001b[0m\u001b[1;33m\u001b[0m\u001b[1;33m\u001b[0m\u001b[0m\n\u001b[0m\u001b[0;32m    216\u001b[0m         \u001b[0mhist_kws\u001b[0m\u001b[1;33m.\u001b[0m\u001b[0msetdefault\u001b[0m\u001b[1;33m(\u001b[0m\u001b[1;34m\"alpha\"\u001b[0m\u001b[1;33m,\u001b[0m \u001b[1;36m0.4\u001b[0m\u001b[1;33m)\u001b[0m\u001b[1;33m\u001b[0m\u001b[1;33m\u001b[0m\u001b[0m\n\u001b[0;32m    217\u001b[0m         \u001b[1;32mif\u001b[0m \u001b[0mLooseVersion\u001b[0m\u001b[1;33m(\u001b[0m\u001b[0mmpl\u001b[0m\u001b[1;33m.\u001b[0m\u001b[0m__version__\u001b[0m\u001b[1;33m)\u001b[0m \u001b[1;33m<\u001b[0m \u001b[0mLooseVersion\u001b[0m\u001b[1;33m(\u001b[0m\u001b[1;34m\"2.2\"\u001b[0m\u001b[1;33m)\u001b[0m\u001b[1;33m:\u001b[0m\u001b[1;33m\u001b[0m\u001b[1;33m\u001b[0m\u001b[0m\n",
      "\u001b[1;32m~\\Anaconda3\\lib\\site-packages\\seaborn\\distributions.py\u001b[0m in \u001b[0;36m_freedman_diaconis_bins\u001b[1;34m(a)\u001b[0m\n\u001b[0;32m     32\u001b[0m     \u001b[1;32mif\u001b[0m \u001b[0mlen\u001b[0m\u001b[1;33m(\u001b[0m\u001b[0ma\u001b[0m\u001b[1;33m)\u001b[0m \u001b[1;33m<\u001b[0m \u001b[1;36m2\u001b[0m\u001b[1;33m:\u001b[0m\u001b[1;33m\u001b[0m\u001b[1;33m\u001b[0m\u001b[0m\n\u001b[0;32m     33\u001b[0m         \u001b[1;32mreturn\u001b[0m \u001b[1;36m1\u001b[0m\u001b[1;33m\u001b[0m\u001b[1;33m\u001b[0m\u001b[0m\n\u001b[1;32m---> 34\u001b[1;33m     \u001b[0mh\u001b[0m \u001b[1;33m=\u001b[0m \u001b[1;36m2\u001b[0m \u001b[1;33m*\u001b[0m \u001b[0miqr\u001b[0m\u001b[1;33m(\u001b[0m\u001b[0ma\u001b[0m\u001b[1;33m)\u001b[0m \u001b[1;33m/\u001b[0m \u001b[1;33m(\u001b[0m\u001b[0mlen\u001b[0m\u001b[1;33m(\u001b[0m\u001b[0ma\u001b[0m\u001b[1;33m)\u001b[0m \u001b[1;33m**\u001b[0m \u001b[1;33m(\u001b[0m\u001b[1;36m1\u001b[0m \u001b[1;33m/\u001b[0m \u001b[1;36m3\u001b[0m\u001b[1;33m)\u001b[0m\u001b[1;33m)\u001b[0m\u001b[1;33m\u001b[0m\u001b[1;33m\u001b[0m\u001b[0m\n\u001b[0m\u001b[0;32m     35\u001b[0m     \u001b[1;31m# fall back to sqrt(a) bins if iqr is 0\u001b[0m\u001b[1;33m\u001b[0m\u001b[1;33m\u001b[0m\u001b[1;33m\u001b[0m\u001b[0m\n\u001b[0;32m     36\u001b[0m     \u001b[1;32mif\u001b[0m \u001b[0mh\u001b[0m \u001b[1;33m==\u001b[0m \u001b[1;36m0\u001b[0m\u001b[1;33m:\u001b[0m\u001b[1;33m\u001b[0m\u001b[1;33m\u001b[0m\u001b[0m\n",
      "\u001b[1;32m~\\Anaconda3\\lib\\site-packages\\seaborn\\utils.py\u001b[0m in \u001b[0;36miqr\u001b[1;34m(a)\u001b[0m\n\u001b[0;32m    364\u001b[0m     \u001b[1;34m\"\"\"Calculate the IQR for an array of numbers.\"\"\"\u001b[0m\u001b[1;33m\u001b[0m\u001b[1;33m\u001b[0m\u001b[0m\n\u001b[0;32m    365\u001b[0m     \u001b[0ma\u001b[0m \u001b[1;33m=\u001b[0m \u001b[0mnp\u001b[0m\u001b[1;33m.\u001b[0m\u001b[0masarray\u001b[0m\u001b[1;33m(\u001b[0m\u001b[0ma\u001b[0m\u001b[1;33m)\u001b[0m\u001b[1;33m\u001b[0m\u001b[1;33m\u001b[0m\u001b[0m\n\u001b[1;32m--> 366\u001b[1;33m     \u001b[0mq1\u001b[0m \u001b[1;33m=\u001b[0m \u001b[0mstats\u001b[0m\u001b[1;33m.\u001b[0m\u001b[0mscoreatpercentile\u001b[0m\u001b[1;33m(\u001b[0m\u001b[0ma\u001b[0m\u001b[1;33m,\u001b[0m \u001b[1;36m25\u001b[0m\u001b[1;33m)\u001b[0m\u001b[1;33m\u001b[0m\u001b[1;33m\u001b[0m\u001b[0m\n\u001b[0m\u001b[0;32m    367\u001b[0m     \u001b[0mq3\u001b[0m \u001b[1;33m=\u001b[0m \u001b[0mstats\u001b[0m\u001b[1;33m.\u001b[0m\u001b[0mscoreatpercentile\u001b[0m\u001b[1;33m(\u001b[0m\u001b[0ma\u001b[0m\u001b[1;33m,\u001b[0m \u001b[1;36m75\u001b[0m\u001b[1;33m)\u001b[0m\u001b[1;33m\u001b[0m\u001b[1;33m\u001b[0m\u001b[0m\n\u001b[0;32m    368\u001b[0m     \u001b[1;32mreturn\u001b[0m \u001b[0mq3\u001b[0m \u001b[1;33m-\u001b[0m \u001b[0mq1\u001b[0m\u001b[1;33m\u001b[0m\u001b[1;33m\u001b[0m\u001b[0m\n",
      "\u001b[1;32m~\\Anaconda3\\lib\\site-packages\\scipy\\stats\\stats.py\u001b[0m in \u001b[0;36mscoreatpercentile\u001b[1;34m(a, per, limit, interpolation_method, axis)\u001b[0m\n\u001b[0;32m   1695\u001b[0m         \u001b[0maxis\u001b[0m \u001b[1;33m=\u001b[0m \u001b[1;36m0\u001b[0m\u001b[1;33m\u001b[0m\u001b[1;33m\u001b[0m\u001b[0m\n\u001b[0;32m   1696\u001b[0m \u001b[1;33m\u001b[0m\u001b[0m\n\u001b[1;32m-> 1697\u001b[1;33m     \u001b[1;32mreturn\u001b[0m \u001b[0m_compute_qth_percentile\u001b[0m\u001b[1;33m(\u001b[0m\u001b[0msorted_\u001b[0m\u001b[1;33m,\u001b[0m \u001b[0mper\u001b[0m\u001b[1;33m,\u001b[0m \u001b[0minterpolation_method\u001b[0m\u001b[1;33m,\u001b[0m \u001b[0maxis\u001b[0m\u001b[1;33m)\u001b[0m\u001b[1;33m\u001b[0m\u001b[1;33m\u001b[0m\u001b[0m\n\u001b[0m\u001b[0;32m   1698\u001b[0m \u001b[1;33m\u001b[0m\u001b[0m\n\u001b[0;32m   1699\u001b[0m \u001b[1;33m\u001b[0m\u001b[0m\n",
      "\u001b[1;32m~\\Anaconda3\\lib\\site-packages\\scipy\\stats\\stats.py\u001b[0m in \u001b[0;36m_compute_qth_percentile\u001b[1;34m(sorted_, per, interpolation_method, axis)\u001b[0m\n\u001b[0;32m   1739\u001b[0m \u001b[1;33m\u001b[0m\u001b[0m\n\u001b[0;32m   1740\u001b[0m     \u001b[1;31m# Use np.add.reduce (== np.sum but a little faster) to coerce data type\u001b[0m\u001b[1;33m\u001b[0m\u001b[1;33m\u001b[0m\u001b[1;33m\u001b[0m\u001b[0m\n\u001b[1;32m-> 1741\u001b[1;33m     \u001b[1;32mreturn\u001b[0m \u001b[0mnp\u001b[0m\u001b[1;33m.\u001b[0m\u001b[0madd\u001b[0m\u001b[1;33m.\u001b[0m\u001b[0mreduce\u001b[0m\u001b[1;33m(\u001b[0m\u001b[0msorted_\u001b[0m\u001b[1;33m[\u001b[0m\u001b[0mtuple\u001b[0m\u001b[1;33m(\u001b[0m\u001b[0mindexer\u001b[0m\u001b[1;33m)\u001b[0m\u001b[1;33m]\u001b[0m \u001b[1;33m*\u001b[0m \u001b[0mweights\u001b[0m\u001b[1;33m,\u001b[0m \u001b[0maxis\u001b[0m\u001b[1;33m=\u001b[0m\u001b[0maxis\u001b[0m\u001b[1;33m)\u001b[0m \u001b[1;33m/\u001b[0m \u001b[0msumval\u001b[0m\u001b[1;33m\u001b[0m\u001b[1;33m\u001b[0m\u001b[0m\n\u001b[0m\u001b[0;32m   1742\u001b[0m \u001b[1;33m\u001b[0m\u001b[0m\n\u001b[0;32m   1743\u001b[0m \u001b[1;33m\u001b[0m\u001b[0m\n",
      "\u001b[1;31mTypeError\u001b[0m: can't multiply sequence by non-int of type 'float'"
     ]
    },
    {
     "data": {
      "image/png": "[encoded data removed]",
      "text/plain": [
       "<Figure size 936x1800 with 1 Axes>"
      ]
     },
     "metadata": {
      "needs_background": "light"
     },
     "output_type": "display_data"
    }
   ],
   "source": [
    "# plot a univariate distribution of continues observations\n",
    "import itertools\n",
    "columns = [i for i in train.columns if i not in 'price']\n",
    "length = len(columns)\n",
    "cs = [\"b\",\"r\",\"g\",\"c\",\"m\",\"k\",\"lime\",\"c\"]\n",
    "\n",
    "fig = plt.figure(figsize=(13,25))\n",
    "\n",
    "for i,j,k in itertools.zip_longest(columns, range(length),cs):\n",
    "    plt.subplot(4,2,j+1)\n",
    "    ax = sns.distplot(train[i], color=k, rug=True)\n",
    "    ax.set_facecolor(\"w\")\n",
    "    plt.axvline(df[i].mean(), linestyle=\"dashed\", label=\"mean\", color=\"k\")\n",
    "    plt.legend(loc=\"best\")\n",
    "    plt.title(i,color=\"navy\")\n",
    "    plt.xlabel(\"\")"
   ]
  },
  {
   "cell_type": "markdown",
   "metadata": {},
   "source": [
    "## Target Variable : Price"
   ]
  },
  {
   "cell_type": "code",
   "execution_count": 10,
   "metadata": {
    "scrolled": true
   },
   "outputs": [
    {
     "data": {
      "image/png": "[encoded data removed]",
      "text/plain": [
       "<Figure size 720x504 with 1 Axes>"
      ]
     },
     "metadata": {
      "needs_background": "light"
     },
     "output_type": "display_data"
    }
   ],
   "source": [
    "fig, ax = plt.subplots(figsize=(10, 7))\n",
    "sns.boxplot(train['price'], ax=ax)\n",
    "ax.set(xlabel= 'price in lakhs(INR)', title='Box plot of price')\n",
    "plt.show()"
   ]
  },
  {
   "cell_type": "code",
   "execution_count": 11,
   "metadata": {},
   "outputs": [
    {
     "data": {
      "text/plain": [
       "0    75.0\n",
       "dtype: float64"
      ]
     },
     "execution_count": 11,
     "metadata": {},
     "output_type": "execute_result"
    }
   ],
   "source": [
    "# find mode (most frequent occuring price value) of price\n",
    "train['price'].mode()"
   ]
  },
  {
   "cell_type": "code",
   "execution_count": 12,
   "metadata": {
    "scrolled": true
   },
   "outputs": [
    {
     "name": "stdout",
     "output_type": "stream",
     "text": [
      "Descriptive statistics of price column:\n",
      "\n",
      "count    13320.000000\n",
      "mean       112.565627\n",
      "std        148.971674\n",
      "min          8.000000\n",
      "25%         50.000000\n",
      "50%         72.000000\n",
      "75%        120.000000\n",
      "max       3600.000000\n",
      "Name: price, dtype: float64\n"
     ]
    }
   ],
   "source": [
    "print('Descriptive statistics of price column:\\n')\n",
    "print(train['price'].describe())"
   ]
  },
  {
   "cell_type": "markdown",
   "metadata": {},
   "source": [
    "- From above box plot and descriptive statistics we can say:-\n",
    "\n",
    "### Measure of spread:\n",
    "- price ranges from minimum **8 lakh to maximum 3600 lakh.**\n",
    "\n",
    "\n",
    "- is 148.97, which is quite high given 25% and 75% values. Which indicates high skewness of the data.\n",
    "- std gives measure of spread around mean value.\n",
    "- Here lower quartile (Q1) (25%) value is 50 lakh and upper quartile (Q3) (75%) value is 120 lakh.\n",
    "- That means 50% of house has price betwen 50 lakh to 120 lakh.\n",
    "- : Q3 - Q1 = 120 - 50 = 70 lakh.\n",
    "- The IQR is often seen as a better measure of spread than the range as it is not affected by outliers.\n",
    "- : In box plot we can see whiskers (Lines extending from box), price outside of this whiskers are considered outliers.\n",
    "- Anything outside of the range [Q1 - 1.5 IQR, Q3 + 1.5 IQR] is outlier.\n",
    "- Here any price value below 0 and above 295 lakh is considered outlier.\n",
    "### Measure of central tendency:\n",
    "- Data has (mean) price value of 112.56 lakhs and (50% quartile) (Q2) price value of 72 lakhs."
   ]
  },
  {
   "cell_type": "code",
   "execution_count": 27,
   "metadata": {
    "scrolled": true
   },
   "outputs": [
    {
     "data": {
      "image/png": "[encoded data removed]",
      "text/plain": [
       "<Figure size 936x432 with 1 Axes>"
      ]
     },
     "metadata": {
      "needs_background": "light"
     },
     "output_type": "display_data"
    }
   ],
   "source": [
    "plt.figure(figsize=(13,6))\n",
    "sns.distplot(train[\"price\"], color=\"b\", rug=True)\n",
    "plt.axvline(train[\"price\"].mean(), linestyle=\"dashed\", color=\"k\", label='mean', linewidth=2)\n",
    "plt.legend(loc=\"best\", prop={\"size\":14})\n",
    "plt.title(\"Compressivee strength distribution\")\n",
    "plt.show()"
   ]
  },
  {
   "cell_type": "markdown",
   "metadata": {},
   "source": [
    "### 12. Relation between Continous numerical Features and Labels"
   ]
  },
  {
   "cell_type": "code",
   "execution_count": 34,
   "metadata": {},
   "outputs": [
    {
     "data": {
      "text/plain": [
       "<Figure size 1440x4320 with 0 Axes>"
      ]
     },
     "metadata": {},
     "output_type": "display_data"
    }
   ],
   "source": [
    "plt.figure(figsize=(20,60), facecolor='white')\n",
    "plotnumber =1\n",
    "for feature in continuous_features:\n",
    "    data=train.copy()\n",
    "    ax = plt.subplot(12,3,plotnumber)\n",
    "    plt.scatter(train[feature],train['price'])\n",
    "    plt.xlabel(feature)\n",
    "    plt.ylabel('strength')\n",
    "    plt.title(feature)\n",
    "    plotnumber+=1\n",
    "plt.show()"
   ]
  },
  {
   "cell_type": "markdown",
   "metadata": {},
   "source": [
    "### 13. Find Outliers in numerical features"
   ]
  },
  {
   "cell_type": "code",
   "execution_count": 35,
   "metadata": {},
   "outputs": [
    {
     "data": {
      "image/png": "[encoded data removed]",
      "text/plain": [
       "<Figure size 1440x4320 with 3 Axes>"
      ]
     },
     "metadata": {},
     "output_type": "display_data"
    }
   ],
   "source": [
    "# boxplot on numerical features to find outliers\n",
    "plt.figure(figsize=(20,60), facecolor='white')\n",
    "plotnumber =1\n",
    "for numerical_feature in numerical_features:\n",
    "    ax = plt.subplot(12,3,plotnumber)\n",
    "    sns.boxplot(train[numerical_feature])\n",
    "    plt.xlabel(numerical_feature)\n",
    "    plotnumber+=1\n",
    "plt.show()"
   ]
  },
  {
   "cell_type": "code",
   "execution_count": 13,
   "metadata": {},
   "outputs": [
    {
     "name": "stdout",
     "output_type": "stream",
     "text": [
      " 5.99 of records has outlier price\n"
     ]
    }
   ],
   "source": [
    "# Find number of outliers\n",
    "print(\"{0: .2f} of records has outlier price\".format(((train['price'] > 295).sum() / train.shape[0]) * 100))"
   ]
  },
  {
   "cell_type": "markdown",
   "metadata": {},
   "source": [
    "### 14. Explore the Correlation between numerical features"
   ]
  },
  {
   "cell_type": "code",
   "execution_count": 36,
   "metadata": {
    "scrolled": true
   },
   "outputs": [
    {
     "data": {
      "text/html": [
       "<div>\n",
       "<style scoped>\n",
       "    .dataframe tbody tr th:only-of-type {\n",
       "        vertical-align: middle;\n",
       "    }\n",
       "\n",
       "    .dataframe tbody tr th {\n",
       "        vertical-align: top;\n",
       "    }\n",
       "\n",
       "    .dataframe thead th {\n",
       "        text-align: right;\n",
       "    }\n",
       "</style>\n",
       "<table border=\"1\" class=\"dataframe\">\n",
       "  <thead>\n",
       "    <tr style=\"text-align: right;\">\n",
       "      <th></th>\n",
       "      <th>bath</th>\n",
       "      <th>balcony</th>\n",
       "      <th>price</th>\n",
       "    </tr>\n",
       "  </thead>\n",
       "  <tbody>\n",
       "    <tr>\n",
       "      <th>bath</th>\n",
       "      <td>1.000000</td>\n",
       "      <td>0.204201</td>\n",
       "      <td>0.456345</td>\n",
       "    </tr>\n",
       "    <tr>\n",
       "      <th>balcony</th>\n",
       "      <td>0.204201</td>\n",
       "      <td>1.000000</td>\n",
       "      <td>0.120355</td>\n",
       "    </tr>\n",
       "    <tr>\n",
       "      <th>price</th>\n",
       "      <td>0.456345</td>\n",
       "      <td>0.120355</td>\n",
       "      <td>1.000000</td>\n",
       "    </tr>\n",
       "  </tbody>\n",
       "</table>\n",
       "</div>"
      ],
      "text/plain": [
       "             bath   balcony     price\n",
       "bath     1.000000  0.204201  0.456345\n",
       "balcony  0.204201  1.000000  0.120355\n",
       "price    0.456345  0.120355  1.000000"
      ]
     },
     "execution_count": 36,
     "metadata": {},
     "output_type": "execute_result"
    }
   ],
   "source": [
    "## Checking for correlation\n",
    "train.corr()"
   ]
  },
  {
   "cell_type": "markdown",
   "metadata": {},
   "source": [
    "<h2 style=\"color:green\" align=\"left\"> 5. Data Visualization </h2>\n",
    "\n",
    "- Used below **visualisation libraries**\n",
    "\n",
    "\n",
    "     1. Matplotlib\n",
    "     2. Seaborn (statistical data visualization)\n",
    "\n",
    "### 1. Categorical\n",
    "\n",
    "- Categorical data :\n",
    "\n",
    "\n",
    "     1. Numerical Summaries\n",
    "     2. Histograms\n",
    "     3. Pie Charts\n",
    "     \n",
    "\n",
    "### 2. Univariate Analysis\n",
    "\n",
    "- Univariate Analysis : data consists of **only one variable (only x value)**.\n",
    "\n",
    "\n",
    "     1. Line Plots / Bar Charts\n",
    "     2. Histograms\n",
    "     3. Box Plots \n",
    "     4. Count Plots\n",
    "     5. Descriptive Statistics techniques\n",
    "     6. Violin Plot"
   ]
  },
  {
   "cell_type": "markdown",
   "metadata": {},
   "source": [
    "### Univariate analysis\n",
    "#### price (target variable)"
   ]
  },
  {
   "cell_type": "code",
   "execution_count": 52,
   "metadata": {
    "scrolled": false
   },
   "outputs": [
    {
     "data": {
      "image/png": "[encoded data removed]",
      "text/plain": [
       "<Figure size 432x288 with 1 Axes>"
      ]
     },
     "metadata": {},
     "output_type": "display_data"
    },
    {
     "data": {
      "image/png": "[encoded data removed]",
      "text/plain": [
       "<Figure size 432x288 with 1 Axes>"
      ]
     },
     "metadata": {},
     "output_type": "display_data"
    }
   ],
   "source": [
    "# histogram and normal probability plot\n",
    "sns.distplot(train['price'], fit=norm);\n",
    "fig = plt.figure()\n",
    "res = stats.probplot(train['price'], plot=plt)"
   ]
  },
  {
   "cell_type": "markdown",
   "metadata": {},
   "source": [
    "- Distribution of price is highly righ skewed, so we should use transformation like log, box-cox or arcsin square root for prediction.\n",
    "- Most of the house price lies below 500 lakhs.\n",
    "- There are outliers in this dataset. You can see from thoes virticle lines (same height dark blue sticks) in the plot are dense below 500."
   ]
  },
  {
   "cell_type": "markdown",
   "metadata": {},
   "source": [
    "- **Kurtosis** measures whether your dataset is heavy-tailed or light-tailed compared to a normal distribution. Data sets with high kurtosis have heavy tails and more outliers and data sets with low kurtosis tend to have light tails and fewer outliers."
   ]
  },
  {
   "cell_type": "code",
   "execution_count": 40,
   "metadata": {
    "scrolled": true
   },
   "outputs": [
    {
     "name": "stdout",
     "output_type": "stream",
     "text": [
      "Skewness: 8.064469\n",
      "Kurtosis: 108.166513\n"
     ]
    }
   ],
   "source": [
    "# skewness and kurtosis\n",
    "print(\"Skewness: %f\" % train['price'].skew())\n",
    "print(\"Kurtosis: %f\" % train['price'].kurt())"
   ]
  },
  {
   "cell_type": "code",
   "execution_count": 43,
   "metadata": {},
   "outputs": [],
   "source": [
    "# applying log transformation\n",
    "train['price'] = np.log(train['price'])"
   ]
  },
  {
   "cell_type": "code",
   "execution_count": 46,
   "metadata": {},
   "outputs": [
    {
     "data": {
      "image/png": "[encoded data removed]",
      "text/plain": [
       "<Figure size 432x288 with 1 Axes>"
      ]
     },
     "metadata": {},
     "output_type": "display_data"
    },
    {
     "data": {
      "image/png": "[encoded data removed]",
      "text/plain": [
       "<Figure size 432x288 with 1 Axes>"
      ]
     },
     "metadata": {},
     "output_type": "display_data"
    }
   ],
   "source": [
    "# transformed histogram and normal probability plot\n",
    "sns.distplot(train['price'], fit=norm);\n",
    "fig = plt.figure()\n",
    "res = stats.probplot(train['price'], plot=plt)"
   ]
  },
  {
   "cell_type": "code",
   "execution_count": 41,
   "metadata": {
    "collapsed": true
   },
   "outputs": [
    {
     "ename": "AttributeError",
     "evalue": "'Series' object has no attribute 'get_values'",
     "output_type": "error",
     "traceback": [
      "\u001b[1;31m---------------------------------------------------------------------------\u001b[0m",
      "\u001b[1;31mAttributeError\u001b[0m                            Traceback (most recent call last)",
      "\u001b[1;32m<ipython-input-41-bd8ca737e9da>\u001b[0m in \u001b[0;36m<module>\u001b[1;34m\u001b[0m\n\u001b[0;32m      4\u001b[0m \u001b[0max\u001b[0m\u001b[1;33m.\u001b[0m\u001b[0maxvline\u001b[0m\u001b[1;33m(\u001b[0m\u001b[0mtrain\u001b[0m\u001b[1;33m[\u001b[0m\u001b[1;34m'price'\u001b[0m\u001b[1;33m]\u001b[0m\u001b[1;33m.\u001b[0m\u001b[0mmean\u001b[0m\u001b[1;33m(\u001b[0m\u001b[1;33m)\u001b[0m\u001b[1;33m,\u001b[0m \u001b[0mcolor\u001b[0m\u001b[1;33m=\u001b[0m\u001b[1;34m'r'\u001b[0m\u001b[1;33m,\u001b[0m \u001b[0mlinestyle\u001b[0m\u001b[1;33m=\u001b[0m\u001b[1;34m'--'\u001b[0m\u001b[1;33m)\u001b[0m\u001b[1;33m\u001b[0m\u001b[1;33m\u001b[0m\u001b[0m\n\u001b[0;32m      5\u001b[0m \u001b[0max\u001b[0m\u001b[1;33m.\u001b[0m\u001b[0maxvline\u001b[0m\u001b[1;33m(\u001b[0m\u001b[0mtrain\u001b[0m\u001b[1;33m[\u001b[0m\u001b[1;34m'price'\u001b[0m\u001b[1;33m]\u001b[0m\u001b[1;33m.\u001b[0m\u001b[0mmedian\u001b[0m\u001b[1;33m(\u001b[0m\u001b[1;33m)\u001b[0m\u001b[1;33m,\u001b[0m \u001b[0mcolor\u001b[0m\u001b[1;33m=\u001b[0m\u001b[1;34m'g'\u001b[0m\u001b[1;33m,\u001b[0m \u001b[0mlinestyle\u001b[0m\u001b[1;33m=\u001b[0m\u001b[1;34m'-'\u001b[0m\u001b[1;33m)\u001b[0m\u001b[1;33m\u001b[0m\u001b[1;33m\u001b[0m\u001b[0m\n\u001b[1;32m----> 6\u001b[1;33m \u001b[0max\u001b[0m\u001b[1;33m.\u001b[0m\u001b[0maxvline\u001b[0m\u001b[1;33m(\u001b[0m\u001b[0mtrain\u001b[0m\u001b[1;33m[\u001b[0m\u001b[1;34m'price'\u001b[0m\u001b[1;33m]\u001b[0m\u001b[1;33m.\u001b[0m\u001b[0mmode\u001b[0m\u001b[1;33m(\u001b[0m\u001b[1;33m)\u001b[0m\u001b[1;33m.\u001b[0m\u001b[0mget_values\u001b[0m\u001b[1;33m(\u001b[0m\u001b[1;33m)\u001b[0m\u001b[1;33m[\u001b[0m\u001b[1;36m0\u001b[0m\u001b[1;33m]\u001b[0m\u001b[1;33m,\u001b[0m \u001b[0mcolor\u001b[0m\u001b[1;33m=\u001b[0m\u001b[1;34m'y'\u001b[0m\u001b[1;33m,\u001b[0m \u001b[0mlinestyle\u001b[0m\u001b[1;33m=\u001b[0m\u001b[1;34m'-'\u001b[0m\u001b[1;33m)\u001b[0m\u001b[1;33m\u001b[0m\u001b[1;33m\u001b[0m\u001b[0m\n\u001b[0m\u001b[0;32m      7\u001b[0m \u001b[0mplt\u001b[0m\u001b[1;33m.\u001b[0m\u001b[0mlegend\u001b[0m\u001b[1;33m(\u001b[0m\u001b[1;33m{\u001b[0m\u001b[1;34m'Normal distribution'\u001b[0m\u001b[1;33m:\u001b[0m \u001b[0mstats\u001b[0m\u001b[1;33m.\u001b[0m\u001b[0mnorm\u001b[0m\u001b[1;33m,\u001b[0m \u001b[1;34m'Mean'\u001b[0m\u001b[1;33m:\u001b[0m\u001b[0mtrain\u001b[0m\u001b[1;33m[\u001b[0m\u001b[1;34m'price'\u001b[0m\u001b[1;33m]\u001b[0m\u001b[1;33m.\u001b[0m\u001b[0mmean\u001b[0m\u001b[1;33m(\u001b[0m\u001b[1;33m)\u001b[0m\u001b[1;33m,\u001b[0m\u001b[1;34m'Median'\u001b[0m\u001b[1;33m:\u001b[0m\u001b[0mtrain\u001b[0m\u001b[1;33m[\u001b[0m\u001b[1;34m'price'\u001b[0m\u001b[1;33m]\u001b[0m\u001b[1;33m.\u001b[0m\u001b[0mmedian\u001b[0m\u001b[1;33m(\u001b[0m\u001b[1;33m)\u001b[0m\u001b[1;33m,\u001b[0m \u001b[1;34m'Mode'\u001b[0m\u001b[1;33m:\u001b[0m \u001b[0mtrain\u001b[0m\u001b[1;33m[\u001b[0m\u001b[1;34m'price'\u001b[0m\u001b[1;33m]\u001b[0m\u001b[1;33m.\u001b[0m\u001b[0mmode\u001b[0m\u001b[1;33m(\u001b[0m\u001b[1;33m)\u001b[0m\u001b[1;33m.\u001b[0m\u001b[0mget_values\u001b[0m\u001b[1;33m(\u001b[0m\u001b[1;33m)\u001b[0m\u001b[1;33m[\u001b[0m\u001b[1;36m0\u001b[0m\u001b[1;33m]\u001b[0m\u001b[1;33m}\u001b[0m\u001b[1;33m)\u001b[0m\u001b[1;33m\u001b[0m\u001b[1;33m\u001b[0m\u001b[0m\n\u001b[0;32m      8\u001b[0m \u001b[0mplt\u001b[0m\u001b[1;33m.\u001b[0m\u001b[0mshow\u001b[0m\u001b[1;33m(\u001b[0m\u001b[1;33m)\u001b[0m\u001b[1;33m\u001b[0m\u001b[1;33m\u001b[0m\u001b[0m\n",
      "\u001b[1;32m~\\Anaconda3\\lib\\site-packages\\pandas\\core\\generic.py\u001b[0m in \u001b[0;36m__getattr__\u001b[1;34m(self, name)\u001b[0m\n\u001b[0;32m   5272\u001b[0m             \u001b[1;32mif\u001b[0m \u001b[0mself\u001b[0m\u001b[1;33m.\u001b[0m\u001b[0m_info_axis\u001b[0m\u001b[1;33m.\u001b[0m\u001b[0m_can_hold_identifiers_and_holds_name\u001b[0m\u001b[1;33m(\u001b[0m\u001b[0mname\u001b[0m\u001b[1;33m)\u001b[0m\u001b[1;33m:\u001b[0m\u001b[1;33m\u001b[0m\u001b[1;33m\u001b[0m\u001b[0m\n\u001b[0;32m   5273\u001b[0m                 \u001b[1;32mreturn\u001b[0m \u001b[0mself\u001b[0m\u001b[1;33m[\u001b[0m\u001b[0mname\u001b[0m\u001b[1;33m]\u001b[0m\u001b[1;33m\u001b[0m\u001b[1;33m\u001b[0m\u001b[0m\n\u001b[1;32m-> 5274\u001b[1;33m             \u001b[1;32mreturn\u001b[0m \u001b[0mobject\u001b[0m\u001b[1;33m.\u001b[0m\u001b[0m__getattribute__\u001b[0m\u001b[1;33m(\u001b[0m\u001b[0mself\u001b[0m\u001b[1;33m,\u001b[0m \u001b[0mname\u001b[0m\u001b[1;33m)\u001b[0m\u001b[1;33m\u001b[0m\u001b[1;33m\u001b[0m\u001b[0m\n\u001b[0m\u001b[0;32m   5275\u001b[0m \u001b[1;33m\u001b[0m\u001b[0m\n\u001b[0;32m   5276\u001b[0m     \u001b[1;32mdef\u001b[0m \u001b[0m__setattr__\u001b[0m\u001b[1;33m(\u001b[0m\u001b[0mself\u001b[0m\u001b[1;33m,\u001b[0m \u001b[0mname\u001b[0m\u001b[1;33m:\u001b[0m \u001b[0mstr\u001b[0m\u001b[1;33m,\u001b[0m \u001b[0mvalue\u001b[0m\u001b[1;33m)\u001b[0m \u001b[1;33m->\u001b[0m \u001b[1;32mNone\u001b[0m\u001b[1;33m:\u001b[0m\u001b[1;33m\u001b[0m\u001b[1;33m\u001b[0m\u001b[0m\n",
      "\u001b[1;31mAttributeError\u001b[0m: 'Series' object has no attribute 'get_values'"
     ]
    },
    {
     "data": {
      "image/png": "[encoded data removed]",
      "text/plain": [
       "<Figure size 720x504 with 1 Axes>"
      ]
     },
     "metadata": {},
     "output_type": "display_data"
    }
   ],
   "source": [
    "fig, ax = plt.subplots(figsize=(10, 7))\n",
    "sns.distplot(train[train['price'] < 500]['price'], kde=True, ax=ax, bins=500, fit=stats.norm)\n",
    "ax.set(title= 'distribution of price < 500 lakhs(INR)', xlabel='price in lakhs', ylabel='probability')\n",
    "ax.axvline(train['price'].mean(), color='r', linestyle='--')\n",
    "ax.axvline(train['price'].median(), color='g', linestyle='-')\n",
    "ax.axvline(train['price'].mode().get_values()[0], color='y', linestyle='-')\n",
    "plt.legend({'Normal distribution': stats.norm, 'Mean':train['price'].mean(),'Median':train['price'].median(), 'Mode': train['price'].mode().get_values()[0]})\n",
    "plt.show()"
   ]
  },
  {
   "cell_type": "code",
   "execution_count": 14,
   "metadata": {},
   "outputs": [],
   "source": [
    "# For plotting bar graph of categorical variable for both train and test dataset on same figure with percentage. \n",
    "def plot_train_test_norm_bar(train_se, test_se, title, figsize=(12,7)):\n",
    "    fig, ax = plt.subplots(ncols=2, figsize=figsize)\n",
    "    fig.suptitle(title)\n",
    "    tr_va_co = train_se.fillna('missing').value_counts(normalize=True)\n",
    "    te_va_co = test_se.fillna('missing').value_counts(normalize=True)\n",
    "    sns.barplot(y = tr_va_co.index, x= tr_va_co.values*100, ax=ax[0])\n",
    "    ax[0].set(title='Train dataset', xlabel= 'percentage', ylabel=str(train_se.name))\n",
    "    sns.barplot(y = te_va_co.index, x= te_va_co.values*100, ax=ax[1])\n",
    "    ax[1].set(title='Test dataset', xlabel='percentage')\n",
    "    plt.plot()"
   ]
  },
  {
   "cell_type": "markdown",
   "metadata": {},
   "source": [
    "### bath"
   ]
  },
  {
   "cell_type": "code",
   "execution_count": 10,
   "metadata": {},
   "outputs": [
    {
     "data": {
      "text/plain": [
       "2.0     6908\n",
       "3.0     3286\n",
       "4.0     1226\n",
       "1.0      788\n",
       "5.0      524\n",
       "6.0      273\n",
       "7.0      102\n",
       "8.0       64\n",
       "9.0       43\n",
       "10.0      13\n",
       "12.0       7\n",
       "13.0       3\n",
       "11.0       3\n",
       "16.0       2\n",
       "27.0       1\n",
       "18.0       1\n",
       "40.0       1\n",
       "15.0       1\n",
       "14.0       1\n",
       "Name: bath, dtype: int64"
      ]
     },
     "metadata": {},
     "output_type": "display_data"
    },
    {
     "data": {
      "text/plain": [
       "2.0     744\n",
       "3.0     371\n",
       "4.0     149\n",
       "1.0      83\n",
       "5.0      62\n",
       "6.0      30\n",
       "7.0      11\n",
       "8.0       9\n",
       "9.0       9\n",
       "10.0      4\n",
       "16.0      1\n",
       "Name: bath, dtype: int64"
      ]
     },
     "metadata": {},
     "output_type": "display_data"
    }
   ],
   "source": [
    "display(train['bath'].value_counts())\n",
    "display(test['bath'].value_counts())"
   ]
  },
  {
   "cell_type": "code",
   "execution_count": 11,
   "metadata": {},
   "outputs": [],
   "source": [
    "train['bath'] = train['bath'].fillna(2)\n",
    "test['bath'] = test['bath'].fillna(2)"
   ]
  },
  {
   "cell_type": "code",
   "execution_count": 16,
   "metadata": {
    "scrolled": true
   },
   "outputs": [
    {
     "data": {
      "image/png": "[encoded data removed]",
      "text/plain": [
       "<Figure size 864x504 with 2 Axes>"
      ]
     },
     "metadata": {
      "needs_background": "light"
     },
     "output_type": "display_data"
    }
   ],
   "source": [
    "plot_train_test_norm_bar(train['bath'], test['bath'], 'Bar chart of number of bathrooms')"
   ]
  },
  {
   "cell_type": "markdown",
   "metadata": {},
   "source": [
    "- 50% of houses has 2 bathrooms.\n",
    "- There are also some house which has more than 10 bathrooms.\n",
    "- Test dataset doesn't contain some bath records which are present in Train dataset. e.g. 40, 40, 18, 27 etc."
   ]
  },
  {
   "cell_type": "markdown",
   "metadata": {},
   "source": [
    "### balcony"
   ]
  },
  {
   "cell_type": "code",
   "execution_count": 12,
   "metadata": {},
   "outputs": [
    {
     "data": {
      "text/plain": [
       "2.0    5113\n",
       "1.0    4897\n",
       "3.0    1672\n",
       "0.0    1029\n",
       "Name: balcony, dtype: int64"
      ]
     },
     "metadata": {},
     "output_type": "display_data"
    },
    {
     "data": {
      "text/plain": [
       "1.0    547\n",
       "2.0    545\n",
       "3.0    189\n",
       "0.0    130\n",
       "Name: balcony, dtype: int64"
      ]
     },
     "metadata": {},
     "output_type": "display_data"
    }
   ],
   "source": [
    "display(train['balcony'].value_counts())\n",
    "display(test['balcony'].value_counts())"
   ]
  },
  {
   "cell_type": "code",
   "execution_count": 13,
   "metadata": {},
   "outputs": [
    {
     "data": {
      "text/plain": [
       "2.0"
      ]
     },
     "execution_count": 13,
     "metadata": {},
     "output_type": "execute_result"
    }
   ],
   "source": [
    "train['balcony'].median()"
   ]
  },
  {
   "cell_type": "code",
   "execution_count": 14,
   "metadata": {
    "scrolled": true
   },
   "outputs": [
    {
     "data": {
      "text/plain": [
       "2.0"
      ]
     },
     "execution_count": 14,
     "metadata": {},
     "output_type": "execute_result"
    }
   ],
   "source": [
    "test['balcony'].median()"
   ]
  },
  {
   "cell_type": "code",
   "execution_count": 15,
   "metadata": {},
   "outputs": [],
   "source": [
    "train['balcony'] = train['balcony'].fillna(2)\n",
    "test['balcony'] = test['balcony'].fillna(2)"
   ]
  },
  {
   "cell_type": "code",
   "execution_count": 15,
   "metadata": {},
   "outputs": [
    {
     "data": {
      "image/png": "[encoded data removed]",
      "text/plain": [
       "<Figure size 864x504 with 2 Axes>"
      ]
     },
     "metadata": {
      "needs_background": "light"
     },
     "output_type": "display_data"
    }
   ],
   "source": [
    "plot_train_test_norm_bar(train['balcony'], test['balcony'], \"Bar chart of number of balcony\")"
   ]
  },
  {
   "cell_type": "markdown",
   "metadata": {},
   "source": [
    "- There are more houses which has 1 or 2 balcony, around 37% each.\n",
    "- Around 4% of the record has missing balcony value in both train and test dataset."
   ]
  },
  {
   "cell_type": "code",
   "execution_count": 54,
   "metadata": {},
   "outputs": [
    {
     "data": {
      "text/plain": [
       "<matplotlib.axes._subplots.AxesSubplot at 0x11da6435ba8>"
      ]
     },
     "execution_count": 54,
     "metadata": {},
     "output_type": "execute_result"
    },
    {
     "data": {
      "image/png": "[encoded data removed]",
      "text/plain": [
       "<Figure size 432x288 with 1 Axes>"
      ]
     },
     "metadata": {},
     "output_type": "display_data"
    }
   ],
   "source": [
    "sns.countplot(x='balcony',data=train)"
   ]
  },
  {
   "cell_type": "markdown",
   "metadata": {},
   "source": [
    "### size"
   ]
  },
  {
   "cell_type": "code",
   "execution_count": 16,
   "metadata": {},
   "outputs": [
    {
     "data": {
      "text/plain": [
       "2 BHK         5199\n",
       "3 BHK         4310\n",
       "4 Bedroom      826\n",
       "4 BHK          591\n",
       "3 Bedroom      547\n",
       "1 BHK          538\n",
       "2 Bedroom      329\n",
       "5 Bedroom      297\n",
       "6 Bedroom      191\n",
       "1 Bedroom      105\n",
       "8 Bedroom       84\n",
       "7 Bedroom       83\n",
       "5 BHK           59\n",
       "9 Bedroom       46\n",
       "6 BHK           30\n",
       "7 BHK           17\n",
       "1 RK            13\n",
       "10 Bedroom      12\n",
       "9 BHK            8\n",
       "8 BHK            5\n",
       "11 Bedroom       2\n",
       "11 BHK           2\n",
       "10 BHK           2\n",
       "12 Bedroom       1\n",
       "16 BHK           1\n",
       "18 Bedroom       1\n",
       "13 BHK           1\n",
       "14 BHK           1\n",
       "27 BHK           1\n",
       "19 BHK           1\n",
       "43 Bedroom       1\n",
       "Name: size, dtype: int64"
      ]
     },
     "metadata": {},
     "output_type": "display_data"
    },
    {
     "data": {
      "text/plain": [
       "2 BHK         540\n",
       "3 BHK         478\n",
       "4 Bedroom      92\n",
       "4 BHK          82\n",
       "3 Bedroom      66\n",
       "1 BHK          54\n",
       "5 Bedroom      41\n",
       "2 Bedroom      39\n",
       "1 Bedroom      17\n",
       "6 Bedroom      17\n",
       "7 Bedroom      12\n",
       "8 Bedroom      10\n",
       "9 Bedroom       8\n",
       "6 BHK           5\n",
       "9 BHK           5\n",
       "8 BHK           3\n",
       "10 Bedroom      3\n",
       "1 RK            2\n",
       "5 BHK           2\n",
       "7 BHK           1\n",
       "16 Bedroom      1\n",
       "Name: size, dtype: int64"
      ]
     },
     "metadata": {},
     "output_type": "display_data"
    }
   ],
   "source": [
    "display(train['size'].value_counts())\n",
    "display(test['size'].value_counts())"
   ]
  },
  {
   "cell_type": "code",
   "execution_count": 17,
   "metadata": {},
   "outputs": [],
   "source": [
    "train['size'] = train['size'].fillna(train['size'].mode()[0])\n",
    "test['size'] = test['size'].fillna(test['size'].mode()[0])"
   ]
  },
  {
   "cell_type": "markdown",
   "metadata": {},
   "source": [
    "### location"
   ]
  },
  {
   "cell_type": "code",
   "execution_count": 18,
   "metadata": {},
   "outputs": [
    {
     "data": {
      "text/plain": [
       "Whitefield               540\n",
       "Sarjapur  Road           399\n",
       "Electronic City          302\n",
       "Kanakpura Road           273\n",
       "Thanisandra              234\n",
       "                        ... \n",
       "Prakruthi Nagar            1\n",
       "7th Block Koramangala      1\n",
       "Chambenahalli              1\n",
       "Sector 4 HSR Layout        1\n",
       "HOSUR RMAIN ROAD           1\n",
       "Name: location, Length: 1305, dtype: int64"
      ]
     },
     "metadata": {},
     "output_type": "display_data"
    },
    {
     "data": {
      "text/plain": [
       "Whitefield                         51\n",
       "Thanisandra                        43\n",
       "Sarjapur  Road                     38\n",
       "Electronic City                    35\n",
       "Kanakpura Road                     25\n",
       "                                   ..\n",
       "Lakshmi Layout                      1\n",
       "Kengeri Satellite Town Stage II     1\n",
       "Giri Nagar                          1\n",
       "Chikkasanne                         1\n",
       "Sompura                             1\n",
       "Name: location, Length: 495, dtype: int64"
      ]
     },
     "metadata": {},
     "output_type": "display_data"
    }
   ],
   "source": [
    "display(train['location'].value_counts())\n",
    "display(test['location'].value_counts())"
   ]
  },
  {
   "cell_type": "code",
   "execution_count": 19,
   "metadata": {},
   "outputs": [],
   "source": [
    "train['location'] = train['location'].fillna(train['location'].mode()[0])"
   ]
  },
  {
   "cell_type": "code",
   "execution_count": 20,
   "metadata": {
    "scrolled": true
   },
   "outputs": [
    {
     "data": {
      "text/plain": [
       "area_type          0\n",
       "availability       0\n",
       "location           0\n",
       "size               0\n",
       "society         5502\n",
       "total_sqft         0\n",
       "bath               0\n",
       "balcony            0\n",
       "price              0\n",
       "dtype: int64"
      ]
     },
     "metadata": {},
     "output_type": "display_data"
    },
    {
     "data": {
      "text/plain": [
       "area_type          0\n",
       "availability       0\n",
       "location           0\n",
       "size               0\n",
       "society          626\n",
       "total_sqft         0\n",
       "bath               0\n",
       "balcony            0\n",
       "price           1480\n",
       "dtype: int64"
      ]
     },
     "metadata": {},
     "output_type": "display_data"
    }
   ],
   "source": [
    "display(train.isnull().sum())\n",
    "display(test.isnull().sum())"
   ]
  },
  {
   "cell_type": "markdown",
   "metadata": {},
   "source": [
    "## EDA (Exploratory Data Analysis)"
   ]
  },
  {
   "cell_type": "markdown",
   "metadata": {},
   "source": [
    "### 1. total_sqft"
   ]
  },
  {
   "cell_type": "code",
   "execution_count": 20,
   "metadata": {
    "scrolled": true
   },
   "outputs": [
    {
     "data": {
      "text/plain": [
       "2117"
      ]
     },
     "metadata": {},
     "output_type": "display_data"
    },
    {
     "data": {
      "text/plain": [
       "666"
      ]
     },
     "metadata": {},
     "output_type": "display_data"
    }
   ],
   "source": [
    "display(train['total_sqft'].nunique())\n",
    "display(test['total_sqft'].nunique())"
   ]
  },
  {
   "cell_type": "code",
   "execution_count": 21,
   "metadata": {
    "scrolled": true
   },
   "outputs": [
    {
     "data": {
      "text/plain": [
       "array(['1056', '2600', '1440', ..., '1133 - 1384', '774', '4689'],\n",
       "      dtype=object)"
      ]
     },
     "metadata": {},
     "output_type": "display_data"
    },
    {
     "data": {
      "text/plain": [
       "array(['1225', '2400', '1650', '1322', '1161', '760', '4500', '960',\n",
       "       '1569', '1445', '1505', '3122', '1096', '1450', '2884', '604',\n",
       "       '1170', '957', '2900', '1160', '1725', '450', '1500', '1824',\n",
       "       '2250', '1698', '1400', '1200', '1902.55', '1150', '1430', '1215',\n",
       "       '3083', '1025', '1353', '6369', '1085', '1289', '2300',\n",
       "       '1691 - 2170', '1021', '1750', '1404', '1060', '1029', '850',\n",
       "       '3565', '2134', '1703', '1190', '700', '929', '955', '1843',\n",
       "       '1250', '1893', '1240', '1151', '1560', '600', '1050', '1063',\n",
       "       '2465', '900', '1255', '2091', '1477', '2145', '1314', '1860',\n",
       "       '1095', '1295', '2000', '1386', '950', '843', '2439', '1280',\n",
       "       '1010', '793', '1100', '40', '1220', '630', '1444', '1710', '800',\n",
       "       '1745', '870', '1393', '1000', '1371', '2140', '1580', '1368',\n",
       "       '1128', '1171', '1564', '1345', '1512', '775', '1090', '969',\n",
       "       '1483', '1252', '3375', '3650', '2440', '1680', '1990', '1523',\n",
       "       '4930', '1195', '550', '540', '1294', '780', '1565', '1790',\n",
       "       '1200 - 2000', '1594.98', '1055', '845', '1640', '1350', '2280',\n",
       "       '1016', '1230', '1480', '736', '1717', '1056', '1130', '1575',\n",
       "       '1892 - 2798', '1685', '1346', '524 - 894', '2938', '1908', '1832',\n",
       "       '3150', '1846', '920', '1610', '3927', '1222', '1819.18', '1080',\n",
       "       '1530', '2025', '1700', '650', '1207', '1305', '2425', '1724',\n",
       "       '648', '1115', '3750', '2600', '1561', '534 - 763', '1550', '937',\n",
       "       '2340', '2100', '3600', '1935', '3210', '1108', '985', '1185',\n",
       "       '1545', '1490', '1268', '1410', '1300', '1800', '1068', '1809',\n",
       "       '1615', '1662', '2215', '1999', '4395', '1611', '1260', '2750',\n",
       "       '1196', '2555', '1535', '1299', '1257', '1498 - 1523', '1183',\n",
       "       '1950', '1395', '1425', '1540', '2671', '6700', '2388', '1235',\n",
       "       '1015', '970', '1156', '1735', '750', '1775', '965', '1342', '374',\n",
       "       '2178', '1452', '3367', '1210', '1175', '1103', '2700', '336',\n",
       "       '2767', '3630', '2556', '1303', '2504', '1035', '1076', '1180',\n",
       "       '1349', '4000', '3450', '2424', '2119', '1600', '5Acres', '1140',\n",
       "       '638', '1984', '1163', '1390', '400', '864', '3075', '1692',\n",
       "       '3321', '1485', '660 - 690', '978', '2200', '1464', '1804', '2082',\n",
       "       '909', '1380', '1309', '1070', '2650', '3500', '675', '1333',\n",
       "       '1697', '2735', '480', '2171', '3054', '1165 - 1225', '1214',\n",
       "       '570', '1249', '2695 - 2940', '1924', '1153', '663', '1730',\n",
       "       '1145', '1304', '1645', '2247', '1152', '2830', '1608', '1711',\n",
       "       '1769', '2050', '2660', '5576', '2666', '1194', '3335', '1960',\n",
       "       '882', '405', '2485', '880', '2163', '1975 - 2289', '1920', '1197',\n",
       "       '1245', '1007', '1478', '1275', '5540', '1133', '993', '661',\n",
       "       '1101', '785', '1120', '2150', '695', '1420', '1047', '1375',\n",
       "       '990', '1348', '806', '1370', '1449', '1355', '1290', '1232',\n",
       "       '1212', '1974', '460', '1276', '1168', '5400', '2526', '1853',\n",
       "       '905', '3485', '1440', '2800', '732', '3000', '1098', '1166',\n",
       "       '1270', '1164', '1447', '1198', '3200', '1174', '1340', '939',\n",
       "       '605', '2992', '2572', '1874', '3677', '1736', '1323', '1475',\n",
       "       '1910', '1582', '1121', '1244', '1664', '825', '984', '1301',\n",
       "       '1082', '1791', '1211', '2321', '1169', '745', '1389', '1894',\n",
       "       '1308', '2116', '1522.5', '1005', '790', '5000', '1630', '2790',\n",
       "       '3004', '1165', '2475', '4730', '1285', '1265', '5120', '580',\n",
       "       '1094.21', '1135', '1740.91', '1238', '1208', '2876', '1209',\n",
       "       '2558', '1385', '1513', '525', '958', '1547', '2690', '1460',\n",
       "       '3930', '1770', '935', '707', '3616', '1066', '635', '755', '2569',\n",
       "       '1061', '1820', '1448', '883', '1241', '2437', '1125', '3436',\n",
       "       '2500', '1868', '901', '1341', '3895', '861', '1020', '4150',\n",
       "       '5407', '1865', '2041', '1690', '1900', '700 - 800', '1087',\n",
       "       '1740', '1075', '2254', '1339', '2695', '1501', '1982', '1836',\n",
       "       '1842', '3260', '933', '1105', '1330', '1199', '1870', '1930',\n",
       "       '2292', '656', '1606', '1218', '1362', '1040', '2955', '2289',\n",
       "       '1320', '1373', '1590', '823', '1652', '2160', '1239', '3009',\n",
       "       '1890', '1667', '1755', '1691', '2404', '3395', '2732', '459',\n",
       "       '620', '4239', '2290', '597', '100Sq. Meter', '1325', '1092',\n",
       "       '1612', '1562', '1671', '3005', '1073', '664', '1470', '1546',\n",
       "       '3553', '1498', '1328', '1291', '1491', '1143', '1307', '1660',\n",
       "       '1367', '2656', '545', '914', '754', '2159', '2640', '1906',\n",
       "       '530 - 575', '1507', '1110', '1160 - 1260', '1609', '1335', '1310',\n",
       "       '1263', '1511', '1589', '1527', '1017', '435', '805', '3400',\n",
       "       '1915', '2190', '1435', '1741 - 2074', '470', '560', '1763',\n",
       "       '1360', '868', '4600', '1273', '1109', '1682', '1009',\n",
       "       '1152 - 1197', '1456', '1065', '1881', '1278', '778', '781',\n",
       "       '1013', '1298', '1184', '2996', '1352', '1313', '8000', '992',\n",
       "       '1815', '1521', '2059', '1788', '2830 - 2882', '2261', '1443',\n",
       "       '1205', '3070', '904', '1032', '2438', '1760', '1216', '2850',\n",
       "       '1030', '1762', '1058', '770', '1878', '2630', '1012', '2259',\n",
       "       '2030', '625', '600 - 4000', '1246', '1659', '810', '1334', '941',\n",
       "       '995', '975', '1741', '1229', '1146', '3124', '3307 - 3464', '640',\n",
       "       '5060', '765', '1777.26', '660', '1397', '1891', '940', '492',\n",
       "       '3144', '1124', '925', '1157', '1354', '300', '1071', '3526',\n",
       "       '1364', '720', '1406', '1802', '1789', '1620', '1655', '830',\n",
       "       '1297', '2870', '2047', '1271', '2563 - 3914', '2524', '1520',\n",
       "       '1365', '1094', '1262', '1888', '3440', '1296', '1277', '934',\n",
       "       '475 - 1058.27', '1086', '926', '1022', '1525', '1595', '1118',\n",
       "       '1377', '1381', '5130', '1237', '2550', '1917', '2954', '1398',\n",
       "       '1586', '1149', '1752.12', '1149.91', '1347', '1566', '1779',\n",
       "       '1159', '1343', '890', '1293', '3383', '2476', '2495', '1204',\n",
       "       '5149', '1079', '1532', '1269', '1588', '1731', '6750', '4250',\n",
       "       '996'], dtype=object)"
      ]
     },
     "metadata": {},
     "output_type": "display_data"
    }
   ],
   "source": [
    "display(train['total_sqft'].unique())\n",
    "display(test['total_sqft'].unique())"
   ]
  },
  {
   "cell_type": "markdown",
   "metadata": {},
   "source": [
    "### Preprocess the column \"total_sqft\"\n",
    "- As all the given values are not measured in 'square feet', we have to preprocess some of the values in the column.\n",
    "- Some of them are also measured in square meters, square yards, perch, acres, cents, guntha and grounds.\n",
    "- So, convert all of them into square feet to make the data more consistent."
   ]
  },
  {
   "cell_type": "code",
   "execution_count": 23,
   "metadata": {},
   "outputs": [
    {
     "data": {
      "text/plain": [
       "1200               843\n",
       "1100               221\n",
       "1500               205\n",
       "2400               196\n",
       "600                180\n",
       "                  ... \n",
       "3103 - 3890          1\n",
       "2400 - 2600          1\n",
       "361.33Sq. Yards      1\n",
       "1234.6               1\n",
       "9200                 1\n",
       "Name: total_sqft, Length: 2117, dtype: int64"
      ]
     },
     "metadata": {},
     "output_type": "display_data"
    },
    {
     "data": {
      "text/plain": [
       "1200    97\n",
       "1500    33\n",
       "2400    28\n",
       "1000    27\n",
       "600     20\n",
       "        ..\n",
       "1313     1\n",
       "1608     1\n",
       "1736     1\n",
       "2572     1\n",
       "1779     1\n",
       "Name: total_sqft, Length: 666, dtype: int64"
      ]
     },
     "metadata": {},
     "output_type": "display_data"
    }
   ],
   "source": [
    "display(train['total_sqft'].value_counts())\n",
    "display(test['total_sqft'].value_counts())"
   ]
  },
  {
   "cell_type": "raw",
   "metadata": {},
   "source": [
    "train['size'] = train['size'].map({'2100 - 2850':2475, '3010 - 3410':3210, '2957 - 3450':3203, '3067 - 8156':5611,\n",
    "                                   '1042 - 1105':1073, '1145 - 1340':1242, '1015 - 1540':1277, '1520 - 1740':1630,\n",
    "                                   '1195 - 1440':1317, '1200 - 2400':1800, '1120 - 1145':1132, '4400 - 6640':5520,\n",
    "                                   '3090 - 5002':4046, '4400 - 6800':5600, '1160 - 1195':1177, '4000 - 5249':4624,\n",
    "                                   '1115 - 1130':1122, '520 - 645':582, '3606 - 5091':4348, '650 - 665':657, '633 - 666':650,\n",
    "                                   '1445 - 1455':1450, '884 - 1116':1000, '850 - 1093':971, '1440 - 1884':1662,\n",
    "                                   '580 - 650':615, '3425 - 3435':3430, '1804 - 2273':2038, '3630 - 3800':3715, '660 - 670':665,\n",
    "                                   '4000 - 5249':4624, '620 - 933':776, '2695 - 2940':2817, '2000 - 5634':3817,\n",
    "                                   '3450 - 3472':3461, '1250 - 1305':1277, '670 - 980':825, '1005.03 - 1252.49':1128,\n",
    "                                   '3630 - 3800':3715, '1004 - 1204':1104, '645 - 936':790, '2710 - 3360':3035,\n",
    "                                   '2249.81 - 4112.19':3181, '3436 - 3643':3539, '2830 - 2882':2856, '596 - 804':700,\n",
    "                                   '1255 - 1863':1559, '1300 - 1405K':1352, '1200 - 2400':1800, '1500 - 2400':1950,\n",
    "                                   '934 - 1437':1185, '980 - 1030':1005, '1564 - 1850':1707, '1446 - 1506':1476,\n",
    "                                   '2249.81 - 4112.19':3181, '1070 - 1315':1192, '2806 - 3019':2912, '613 - 648':630,\n",
    "                                   '1430 - 1630':1530, '704 - 730':717, '1482 - 1846':1664, '2805 - 3565':3185, '3293 - 5314':4303,\n",
    "                                   '1210 - 1477':1343, '3369 - 3464':3416, '1125 - 1500':1312, '1076 - 1199':1137, '381 - 535':458,\n",
    "                                   '2215 - 2475':2345, '524 - 894':709, '540 - 670':605, '1650 - 2538':2094, '2725 - 3250K':2988,\n",
    "                                   '1974 - 2171':2072, '888 - 1290':1089, '1360 - 1890':1625, '2466 - 2856':2661, '660 - 700':680,\n",
    "                                   '385 - 440':3, '2100 - 5405':1, '770 - 841':2, '524 - 894':5, '1310 - 1615':7, '1782 - 2000':1850,\n",
    "                                   '1469 - 1766':3, '1255 - 1350':1, '870 - 1080':2, '2580 - 2591':5, '613 - 648':7, '2563 - 2733':2600,\n",
    "                                   '605 - 624':3, '4260 - 4408':1, '1349 - 3324':2, '1255 - 1350':5, '3300 - 3335':7,\n",
    "                                   '1180 - 1630':3, '1365 - 1700':1, '3500 - 3600':2, '2830 - 2882':5, '2830 - 2882':7, '1482 - 1684':1500,\n",
    "                                   '981 - 1249':3, '1100 - 1225':1, '1565 - 1595':2, '1270 - 1275':5, '840 - 1010':7, '2830 - 2882':2850,\n",
    "                                   '655 - 742':3, '800 - 2660':1, '1408 - 1455':2, '4050 - 4075':5, '942 - 1117':7, '1750 - 2640':2350,\n",
    "                                   '1390 - 1600':3, '598 - 958':1, '1010 - 1300':2, '3103 - 3890':5, '1450 - 1950':7,\n",
    "                                   '1450 - 1595':3, '763 - 805':1, '3307 - 3464':2, '620 - 934':5, '2462 - 2467':7,\n",
    "                                   '540 - 740':3, '1618 - 1929':1, '3508 - 4201':2, '2249.81 - 4112.19':5, '4900 - 4940':7,\n",
    "                                   '1610 - 1880':3, '755 - 770':1, '2 Bedroom':2, '5 Bedroom':5, '7 BHK':7,\n",
    "                                   '3 Bedroom':3, '1 Bedroom':1, '2 Bedroom':2, '5 Bedroom':5, '7 BHK':7,})\n",
    "\n",
    "test['size'] = test['size'].map({'2 BHK':2, '9 Bedroom':9, '4 Bedroom':4, '3 BHK':3, '4 BHK':4, '1 BHK':1,\n",
    "                                 '3 Bedroom':3, '1 Bedroom':1, '2 Bedroom':2, '5 Bedroom':5, '7 BHK':7,\n",
    "                                 '8 Bedroom':8, '6 Bedroom':6, '7 Bedroom':7, '1 RK':1, '5 BHK':5, '9 BHK':9,\n",
    "                                 '6 BHK':6, '8 BHK':8, '10 Bedroom':10, '16 Bedroom':16})"
   ]
  },
  {
   "cell_type": "markdown",
   "metadata": {},
   "source": [
    "### 2. area_type"
   ]
  },
  {
   "cell_type": "code",
   "execution_count": 21,
   "metadata": {
    "scrolled": false
   },
   "outputs": [
    {
     "data": {
      "text/plain": [
       "Super built-up  Area    8790\n",
       "Built-up  Area          2418\n",
       "Plot  Area              2025\n",
       "Carpet  Area              87\n",
       "Name: area_type, dtype: int64"
      ]
     },
     "metadata": {},
     "output_type": "display_data"
    },
    {
     "data": {
      "text/plain": [
       "Super built-up  Area    946\n",
       "Built-up  Area          270\n",
       "Plot  Area              254\n",
       "Carpet  Area             10\n",
       "Name: area_type, dtype: int64"
      ]
     },
     "metadata": {},
     "output_type": "display_data"
    }
   ],
   "source": [
    "display(train['area_type'].value_counts())\n",
    "display(test['area_type'].value_counts())"
   ]
  },
  {
   "cell_type": "code",
   "execution_count": 22,
   "metadata": {},
   "outputs": [],
   "source": [
    "train['area_type'] = train['area_type'].map({'Super built-up  Area': 0, 'Built-up  Area': 1,\n",
    "                                             'Plot  Area': 2, 'Carpet  Area': 3})\n",
    "\n",
    "test['area_type'] = test['area_type'].map({'Super built-up  Area': 0, 'Built-up  Area': 1,\n",
    "                                           'Plot  Area': 2, 'Carpet  Area': 3})"
   ]
  },
  {
   "cell_type": "code",
   "execution_count": 17,
   "metadata": {
    "scrolled": true
   },
   "outputs": [
    {
     "data": {
      "image/png": "[encoded data removed]",
      "text/plain": [
       "<Figure size 864x504 with 2 Axes>"
      ]
     },
     "metadata": {
      "needs_background": "light"
     },
     "output_type": "display_data"
    }
   ],
   "source": [
    "plot_train_test_norm_bar(train['area_type'], test['area_type'], \"Bar plot of area type\")"
   ]
  },
  {
   "cell_type": "markdown",
   "metadata": {},
   "source": [
    "- Around 65% of house has super built up area type both in Train and Test dataset."
   ]
  },
  {
   "cell_type": "markdown",
   "metadata": {},
   "source": [
    "### 3. availability"
   ]
  },
  {
   "cell_type": "code",
   "execution_count": 23,
   "metadata": {
    "scrolled": true
   },
   "outputs": [
    {
     "data": {
      "text/plain": [
       "81"
      ]
     },
     "execution_count": 23,
     "metadata": {},
     "output_type": "execute_result"
    }
   ],
   "source": [
    "train['availability'].nunique()"
   ]
  },
  {
   "cell_type": "code",
   "execution_count": 24,
   "metadata": {},
   "outputs": [
    {
     "data": {
      "text/plain": [
       "array(['19-Dec', 'Ready To Move', '18-May', '18-Feb', '18-Nov', '20-Dec',\n",
       "       '17-Oct', '21-Dec', '19-Sep', '20-Sep', '18-Mar', '20-Feb',\n",
       "       '18-Apr', '20-Aug', '18-Oct', '19-Mar', '17-Sep', '18-Dec',\n",
       "       '17-Aug', '19-Apr', '18-Jun', '22-Dec', '22-Jan', '18-Aug',\n",
       "       '19-Jan', '17-Jul', '18-Jul', '21-Jun', '20-May', '19-Aug',\n",
       "       '18-Sep', '17-May', '17-Jun', '21-May', '18-Jan', '20-Mar',\n",
       "       '17-Dec', '16-Mar', '19-Jun', '22-Jun', '19-Jul', '21-Feb',\n",
       "       'Immediate Possession', '19-May', '17-Nov', '20-Oct', '20-Jun',\n",
       "       '19-Feb', '21-Oct', '21-Jan', '17-Mar', '17-Apr', '22-May',\n",
       "       '19-Oct', '21-Jul', '21-Nov', '21-Mar', '16-Dec', '22-Mar',\n",
       "       '20-Jan', '21-Sep', '21-Aug', '14-Nov', '19-Nov', '15-Nov',\n",
       "       '16-Jul', '15-Jun', '17-Feb', '20-Nov', '20-Jul', '16-Sep',\n",
       "       '15-Oct', '15-Dec', '16-Oct', '22-Nov', '15-Aug', '17-Jan',\n",
       "       '16-Nov', '20-Apr', '16-Jan', '14-Jul'], dtype=object)"
      ]
     },
     "metadata": {},
     "output_type": "display_data"
    },
    {
     "data": {
      "text/plain": [
       "array(['Ready To Move', '18-Apr', '18-Dec', '18-Jul', '19-Dec', '19-Oct',\n",
       "       '17-Dec', '18-May', '22-Jun', '18-Feb', '18-Aug', '18-Jun',\n",
       "       '18-Mar', '20-Dec', '17-Jun', '21-Mar', '17-Jul', '15-Oct',\n",
       "       'Immediate Possession', '19-Sep', '17-Jan', '19-Jun', '21-May',\n",
       "       '22-May', '18-Oct', '18-Sep', '21-Dec', '18-Nov', '17-Nov',\n",
       "       '19-Jan', '17-May', '19-Mar', '17-Sep', '17-Apr', '20-Jul',\n",
       "       '19-Nov', '21-Jan', '21-Feb', '20-Jun', '19-May', '21-Jul',\n",
       "       '20-Jan', '18-Jan', '19-Feb', '19-Aug', '16-Jul', '19-Jul',\n",
       "       '17-Aug', '21-Jun', '16-Apr', '20-Aug'], dtype=object)"
      ]
     },
     "metadata": {},
     "output_type": "display_data"
    }
   ],
   "source": [
    "display(train['availability'].unique())\n",
    "display(test['availability'].unique())"
   ]
  },
  {
   "cell_type": "code",
   "execution_count": 25,
   "metadata": {
    "scrolled": true
   },
   "outputs": [
    {
     "data": {
      "text/plain": [
       "Ready To Move    10581\n",
       "18-Dec             307\n",
       "18-May             295\n",
       "18-Apr             271\n",
       "18-Aug             200\n",
       "19-Dec             185\n",
       "18-Jul             143\n",
       "18-Mar             131\n",
       "18-Jun              99\n",
       "20-Dec              98\n",
       "Name: availability, dtype: int64"
      ]
     },
     "metadata": {},
     "output_type": "display_data"
    },
    {
     "data": {
      "text/plain": [
       "Ready To Move    1162\n",
       "18-Dec             44\n",
       "19-Dec             33\n",
       "18-May             29\n",
       "18-Apr             25\n",
       "18-Aug             25\n",
       "18-Jul             17\n",
       "18-Mar             16\n",
       "20-Dec             11\n",
       "21-Dec             10\n",
       "Name: availability, dtype: int64"
      ]
     },
     "metadata": {},
     "output_type": "display_data"
    }
   ],
   "source": [
    "display(train['availability'].value_counts().head(10))\n",
    "display(test['availability'].value_counts().head(10))"
   ]
  },
  {
   "cell_type": "code",
   "execution_count": 26,
   "metadata": {},
   "outputs": [],
   "source": [
    "def replace_availabilty(my_string):\n",
    "    if my_string == 'Ready To Move':\n",
    "        return 0\n",
    "    elif my_string == 'Immediate Possession':\n",
    "        return 1\n",
    "    else:\n",
    "        return 2"
   ]
  },
  {
   "cell_type": "code",
   "execution_count": 27,
   "metadata": {},
   "outputs": [],
   "source": [
    "train['availability'] = train.availability.apply(replace_availabilty)\n",
    "test['availability'] = test.availability.apply(replace_availabilty)"
   ]
  },
  {
   "cell_type": "markdown",
   "metadata": {},
   "source": [
    "### 4. location"
   ]
  },
  {
   "cell_type": "code",
   "execution_count": 28,
   "metadata": {},
   "outputs": [
    {
     "data": {
      "text/plain": [
       "1305"
      ]
     },
     "metadata": {},
     "output_type": "display_data"
    },
    {
     "data": {
      "text/plain": [
       "495"
      ]
     },
     "metadata": {},
     "output_type": "display_data"
    }
   ],
   "source": [
    "display(train['location'].nunique())\n",
    "display(test['location'].nunique())"
   ]
  },
  {
   "cell_type": "code",
   "execution_count": 29,
   "metadata": {
    "scrolled": true
   },
   "outputs": [
    {
     "data": {
      "text/plain": [
       "array(['Electronic City Phase II', 'Chikka Tirupathi', 'Uttarahalli', ...,\n",
       "       '12th cross srinivas nagar banshankari 3rd stage',\n",
       "       'Havanur extension', 'Abshot Layout'], dtype=object)"
      ]
     },
     "metadata": {},
     "output_type": "display_data"
    },
    {
     "data": {
      "text/plain": [
       "array(['Brookefield', 'Akshaya Nagar', 'Hennur Road', 'Kodichikkanahalli',\n",
       "       'Konanakunte', '5th Phase JP Nagar', 'Vijayanagar', 'BEML Layout',\n",
       "       'Thanisandra', 'NRI Layout', 'Sarjapur', 'Thigalarapalya',\n",
       "       'Kanakapura', 'Narayanapura', 'Magadi Road', 'Kogilu',\n",
       "       'BTM 2nd Stage', 'Hebbal Kempapura', 'Electronic City',\n",
       "       'Hosa Road', 'Kengeri Satellite Town Stage 1', 'Begur Road',\n",
       "       'Harlur', 'Rachenahalli', 'Ayappa Nagar', 'Whitefield',\n",
       "       'Dasarahalli', 'JP Nagar', 'Sarjapur  Road', 'Kammagondahalli',\n",
       "       'Jalahalli', 'Marathahalli', '4th Block Koramangala', 'Hoodi',\n",
       "       'Horamavu Agara', 'Hulimavu', 'Frazer Town', 'Vittasandra',\n",
       "       'KR Puram', 'C P Cassia Apartment,', 'Neeladri Nagar',\n",
       "       'CV Raman Nagar', 'Subramanyapura', 'Bommasandra', 'Koramangala',\n",
       "       'Tumkur Road', 'Kanakpura Road', 'Anandapura',\n",
       "       'Horamavu Banaswadi', 'Anjanapura', 'Binny Pete', 'TC Palaya',\n",
       "       'Hennur', 'Varthur', 'Kadugodi', 'Cox Town', 'Choodasandra',\n",
       "       'Old Madras Road', 'Babusapalaya', 'Malleshwaram',\n",
       "       'Garudachar Palya', 'Naganathapura', 'Gattahalli',\n",
       "       'Vittal Mallya Road', 'Dasanapura', 'Bhoganhalli', 'Gottigere',\n",
       "       'Shingapura', 'Uttarahalli', 'Sunkadakatte', 'Basavanapura',\n",
       "       'Raja rajeswarinagar 5th Stage', 'Seegehalli', 'Hosur Road',\n",
       "       'Kammasandra', 'Haralur Road', 'RMV Extension', 'Sarjapur Road, ',\n",
       "       '8th Phase JP Nagar', 'Billekahalli', 'Jigani', 'SIPCOT 1',\n",
       "       'Doddanakundi Industrial Area 2', 'Electronic City Phase II',\n",
       "       'Sugama Layout', 'Ejipura', 'Kothanur', 'Yelahanka', 'Palanahalli',\n",
       "       'Kasturi Nagar', 'Iblur Village', 'Doddathoguru', 'ITPL',\n",
       "       'Channasandra', 'Giri Nagar', 'BSK STAGE 2',\n",
       "       'Reliaable Tranquil Layout', 'EPIP Zone', 'ITI Employees Layout',\n",
       "       'B Narayanapura', 'Devanahalli', 'Ramamurthy Nagar', 'Hebbal',\n",
       "       'Chandapura', '7th Phase JP Nagar', 'Bannerghatta Road',\n",
       "       'Thippasandra main', 'Chikkaballapur', 'Kaggadasapura',\n",
       "       'Electronics City Phase 1', 'Bisuvanahalli', 'Rajaji Nagar',\n",
       "       'Muthyala Nagar', 'Pulkeshi Nagar', 'Hegde Nagar',\n",
       "       'Jinkethimmanahalli', 'TPV Layout', 'Kundalahalli',\n",
       "       'Esther Enclave Layout', 'Kumaraswami Layout', 'Kasavanhalli',\n",
       "       'New Thippasandra', 'Mico Layout', 'Kanaka Nagar', 'Bellandur',\n",
       "       'Benson Town', 'Dairy Circle', 'Banashankari Stage VI',\n",
       "       'JP nagar 9th phase , ', 'Hormavu', 'BTM Layout', 'Hoodi Layout',\n",
       "       'Lingarajapuram', 'Jakkur', 'Vidyaranyapura', 'Nagarbhavi',\n",
       "       'Vivek Nagar', 'Bannerghatta', 'Raja Rajeshwari Nagar',\n",
       "       'Banashankari Stage III', 'Abbigere', 'Kathriguppe',\n",
       "       'Mahalakshmi Layout', 'Volagerekallahalli', 'R.T. Nagar',\n",
       "       'HBR Layout', 'Doddabommasandra', 'Chikkasanne', 'Ananth Nagar',\n",
       "       'Herohalli', 'Ashwathnagar', 'Sonnenahalli', 'Vijaya Bank Layout',\n",
       "       '1st Phase JP Nagar', 'Chokkanahalli', 'Thyagaraja Nagar',\n",
       "       'Arekere', 'Dodda Nekkundi', 'Kalena Agrahara', 'Samethanahalli',\n",
       "       'Attibele', 'Sarjapura - Attibele Road', 'Yeshwanthpur',\n",
       "       'Channasandra Layout', 'J.P.Nagar 6th Phase , sarakki nagar',\n",
       "       'Raja Rajashware nagar', 'Malleshpalya', 'Old Airport Road',\n",
       "       'KSRTC Layout', 'Ramagondanahalli', 'Kaikondrahalli', 'Kengeri',\n",
       "       'Kattigenahalli', 'Sector 7 HSR Layout', 'Shivaji Nagar',\n",
       "       'Mahadevpura', '8th Block Jayanagar', 'Srinagar', 'Murugeshpalya',\n",
       "       ' Bhoganhalli', 'Bagalur', '9th Phase JP Nagar', 'Padmanabhanagar',\n",
       "       'Thubarahalli', 'Banashankari', 'Devanahalli Road',\n",
       "       'Lakshmi Layout', ' Hoodi', 'Doddaballapur', 'nynappanahalli',\n",
       "       'Talaghattapura', 'Thirupalya', 'Narayanappa Garden',\n",
       "       'Sector 3 HSR Layout', 'Nandini Layout', 'Chandra Layout',\n",
       "       'Govindpura', 'Sadanand Nagar', 'Kodihalli', 'Kothannur',\n",
       "       'Jeevanhalli', 'Battarahalli', 'Telecom Layout', 'Basavangudi',\n",
       "       'Hoodi Circle, ', 'Sanjay nagar', 'Koppa village', 'T Dasarahalli',\n",
       "       'Dena Bank Colony', 'Budigere', 'Varthur Road, ', 'Ambalipura',\n",
       "       'Doddakallasandra', 'Lingadheeranahalli', 'yelahanka, north',\n",
       "       'RMV 2nd Stage', 'Ittamadu', 'Kereguddadahalli',\n",
       "       'Alfa Garden Layout', 'Kenchenahalli', 'Doopanahalli',\n",
       "       'kg halli hidayat nagar', 'Srinivasa Nagar', 'Kauser Nagar',\n",
       "       'Sathya Sai Layout', 'Bellandur ORR', 'Sector 2 HSR Layout',\n",
       "       'Ulsoor', ' Devarachikkanahalli', 'Nagappa Reddy Layout',\n",
       "       'Parappana Agrahara', 'MCECHS  layout', 'Lalbagh Road',\n",
       "       '2nd Block Koramangala', 'Vidyapeeta', 'Naidu Layout', 'Gunjur',\n",
       "       'Bhuvaneswari Nagar', 'Wilson Garden', 'Bagalur Main Road',\n",
       "       'Ardendale', 'Balagere', 'Rajarajeshwari Nagar',\n",
       "       'kanakapura main road', 'Munnekollal', 'Kammanahalli',\n",
       "       'Kathreguppe', 'Panathur', 'OMBR Layout', 'Kengeri Satellite Town',\n",
       "       'Mysore Road', 'Sundara Nagar', 'Sultan Palaya', 'MS Pallya',\n",
       "       'Shanthinagar', 'Omkar Nagar', 'Chikkalasandra',\n",
       "       'Kumbena Agrahara', 'Raghavendra Layout', 'Jalahalli West',\n",
       "       'Canara Bank Colony', 'Cunningham Road', 'Anekal', 'Hosapalya',\n",
       "       'Hegganahalli', 'manyata park', 'Tindlu',\n",
       "       '2nd Phase Judicial Layout', 'Vignana Nagar', 'Maruthi Nagar',\n",
       "       'soukya road', 'Nobo Nagar', '3rd Phase JP Nagar',\n",
       "       'Shirdi Sai Nagar', 'Kamala Nagar', 'Meenakunte',\n",
       "       'KUDLU MAIN ROAD', 'yettagodi Road', 'Munireddy Layout',\n",
       "       'Sahakara Nagar', 'Panathur Road, ', 'Doddakannelli',\n",
       "       'Celebrity Paradise Layout', 'Puttappa Layout', 'Prithvi Layout',\n",
       "       'Navodaya Nagar', 'Kenchenhalli', 'HSR Layout', 'Hanumagiri',\n",
       "       'Basaveshwara Nagar', 'Devasthanagalu', 'PARAPPANAAGHRARA',\n",
       "       'Brindavan Layout', 'Kalkere', '2nd Stage Nagarbhavi',\n",
       "       'Kalyan nagar', 'Panduranga Nagar', 'Pai Layout', 'Kudlu Gate',\n",
       "       'Medahalli', 'Bommasandra Industrial Area', 'Palace Road',\n",
       "       'Maragondanahalli', 'Cooke Town', 'Coffee Board Layout',\n",
       "       'Basaveshwara Nagar Yelahanka', 'Kavika Layout', 'Amruthnagar',\n",
       "       'Lakkasandra', 'Gubbalala', '6th block Koramangala',\n",
       "       'Kadarenahalli', 'Kodigehalli', 'Raja Rajeshwari Nagar 5th Stage',\n",
       "       'Green Glen Layout', 'Kada Agrahara', 'Yelahanka New Town',\n",
       "       'Chikkabanavar', 'Hennur Gardens', 'Byrasandra Extension',\n",
       "       'Kambipura', 'Vishwanatha Nagenahalli', 'Banashankari Stage II',\n",
       "       'Dinnur', 'Koramangala Industrial Layout', 'Syndicate Bank Colony',\n",
       "       'Bommanahalli', 'Ambedkar Nagar', 'Kaverappa Layout',\n",
       "       'Subramanyanagar', 'Jalahalli East', 'Thurahalli', 'Andrahalli',\n",
       "       'Friends Colony', 'Nagavarapalya', 'Uttarahalli hobli', 'Marsur',\n",
       "       'Badavala Nagar', 'New Gurappana Palya', 'Nelamangala',\n",
       "       'Kaggalipura', 'Indira Nagar', 'JCR Layout',\n",
       "       'Classic Paradise Layout', 'Kodbisanhalli', 'Vasanth nagar',\n",
       "       'Kachanayakanahalli', 'Kumara Park', 'Geddalahalli', 'Sai Gardens',\n",
       "       '9th Block Jayanagar', 'Amco Colony', '3rd Block Banashankari',\n",
       "       'Pattegarhpalya', 'Kadugondanahalli', 'Bellandur, ',\n",
       "       'Manjunath Nagar', 'agara tataguni', 'New Bank Colony',\n",
       "       'Bank Of Baroda Colony', 'Singasandra', 'Byagadadhenahalli',\n",
       "       'Sunder Ram Shetty Nagar', 'Gokula Extension',\n",
       "       'Shantiniketan Layout', 'Hanuma Reddy Layout', 'Margondanahalli',\n",
       "       'New Baiyyappanahalli', 'Kalidasa Layout', 'Rajarajeshwari nagar',\n",
       "       'Mathikere Extension', 'Chikku Lakshmaiah Layout', 'Adugodi',\n",
       "       'Reliable Tranquil Layout', 'Nayandanahalli', 'Govindapura',\n",
       "       'Devarabisanahalli', 'Shanthala Nagar', ' Kanakpura Road',\n",
       "       '1st Block Koramangala', 'Sadaramangala', 'ISRO Layout',\n",
       "       'Ankappa Layout', 'Victoria Layout', 'Roopena Agrahara',\n",
       "       'Bande Nallasandra', 'Annaiah Reddy Layout', 'Kamakshipalya',\n",
       "       'Ashwini layout', 'Kadubeesanahalli', 'Hoskote', 'Huskur',\n",
       "       'Vivekananda Nagar', '4th T block Jayanagar', 'Jayanagar',\n",
       "       'Manayata Tech Park', 'Lakshminarayana Pura', 'VHBCS Layout',\n",
       "       'Immadihalli', 'Avalahalli', 'Dodsworth Layout',\n",
       "       'Mahaganapathy Nagar', 'Nagondanahalli', 'Nanjappa Garden',\n",
       "       'Padarayana Pura', 'Vyalikaval HBCS Layout', 'Singapura Village',\n",
       "       'Raghuvanahalli', '2nd Phase JP Nagar', 'West of Chord Road',\n",
       "       'MLA Layout', 'Dollars Colony', 'Laggere', 'Sompura', 'Begur',\n",
       "       'Muni reddy layout', 'Aga Abbas Ali Road',\n",
       "       'Yellappa Chetty Layout', 'Vishwapriya Layout', 'BEL Road',\n",
       "       'near ullas theater', 'Nagawara Junction', 'Garebhavipalya',\n",
       "       'Nagavara', 'Lake City', 'Shikaripalya', 'Narayanaghatta',\n",
       "       'Subbannaiah Palya', 'Arehalli', 'Sarakki Nagar', 'Kallumantapa',\n",
       "       'Reliable Woods Layout', 'Kurudusonnenahalli', 'Kodigehaali',\n",
       "       'Sector 6 HSR Layout', 'Chikkadunnasandra', 'East Colony',\n",
       "       'Thanisandra main road', 'Vyalikaval', 'Rayasandra', 'KR Layout',\n",
       "       'Nagarathpet', 'HRBR Layout', 'Hosakerehalli', 'Hennur Bande',\n",
       "       'Nisarga Layout', '#NAME?', 'BTM 1st Stage',\n",
       "       '2nd Block Hbr Layout', 'Karuna Nagar', 'Hagadur', 'Moodalapalya',\n",
       "       'Ashwath Nagar', 'Munivenkatppa Layout', 'Yelachenahalli',\n",
       "       'Jnanabharathi Layout', 'KAS Officers Colony', 'Santosh Nagar',\n",
       "       'Sidedahalli', 'Inasappa Layout', 'Lottegolla Halli', 'GKW Layout',\n",
       "       'Ganga Nagar', 'Gollahalli', 'Varthur Road', 'Dwaraka Nagar',\n",
       "       'Chikkathoguru', 'Jeevan bima nagar', '4th Phase JP Nagar',\n",
       "       'Vasanthapura', 'Suraksha Nagar', 'Chinnapa Garden',\n",
       "       'Ramanashree Enclave', 'nagendra block', '6th Phase JP Nagar',\n",
       "       'Judicial Layout, Kanakapura Road, ', 'Raj Mahal Vilas Extension',\n",
       "       'Yelenahalli', 'AECS Layout', '15th Block Hbr Layout',\n",
       "       'Basava Nagar', 'Annapurneshwari Nagar',\n",
       "       'Yemlur, Old Airport Road, ', 'Kengeri Satellite Town Stage II',\n",
       "       'Somanna Garden', 'Devanahalli Int. Airport', 'Byrasandra',\n",
       "       'Crimson Layout', 'Maruthi Sevanagar', 'Udayagiri', 'P&T Layout',\n",
       "       'Kithaganur', 'Akshayanagara West',\n",
       "       'Vishweswaraiah Layout 4th Block', 'Byadarahalli'], dtype=object)"
      ]
     },
     "metadata": {},
     "output_type": "display_data"
    }
   ],
   "source": [
    "display(train['location'].unique())\n",
    "display(test['location'].unique())"
   ]
  },
  {
   "cell_type": "code",
   "execution_count": 30,
   "metadata": {},
   "outputs": [
    {
     "data": {
      "text/html": [
       "<div>\n",
       "<style scoped>\n",
       "    .dataframe tbody tr th:only-of-type {\n",
       "        vertical-align: middle;\n",
       "    }\n",
       "\n",
       "    .dataframe tbody tr th {\n",
       "        vertical-align: top;\n",
       "    }\n",
       "\n",
       "    .dataframe thead th {\n",
       "        text-align: right;\n",
       "    }\n",
       "</style>\n",
       "<table border=\"1\" class=\"dataframe\">\n",
       "  <thead>\n",
       "    <tr style=\"text-align: right;\">\n",
       "      <th></th>\n",
       "      <th>area_type</th>\n",
       "      <th>availability</th>\n",
       "      <th>location</th>\n",
       "      <th>size</th>\n",
       "      <th>society</th>\n",
       "      <th>total_sqft</th>\n",
       "      <th>bath</th>\n",
       "      <th>balcony</th>\n",
       "      <th>price</th>\n",
       "    </tr>\n",
       "  </thead>\n",
       "  <tbody>\n",
       "  </tbody>\n",
       "</table>\n",
       "</div>"
      ],
      "text/plain": [
       "Empty DataFrame\n",
       "Columns: [area_type, availability, location, size, society, total_sqft, bath, balcony, price]\n",
       "Index: []"
      ]
     },
     "execution_count": 30,
     "metadata": {},
     "output_type": "execute_result"
    }
   ],
   "source": [
    "train[~train.location.notnull()]"
   ]
  },
  {
   "cell_type": "code",
   "execution_count": 31,
   "metadata": {},
   "outputs": [],
   "source": [
    "train['location'] = train['location'].fillna('Location not provided')"
   ]
  },
  {
   "cell_type": "code",
   "execution_count": 32,
   "metadata": {
    "scrolled": true
   },
   "outputs": [],
   "source": [
    "location_encoder = LabelEncoder()\n",
    "location_encoder.fit(train['location'].append(test['location']))\n",
    "train['location'] = location_encoder.transform(train['location'])"
   ]
  },
  {
   "cell_type": "code",
   "execution_count": 33,
   "metadata": {},
   "outputs": [],
   "source": [
    "test['location'] = location_encoder.transform(test['location'].astype('str'))"
   ]
  },
  {
   "cell_type": "markdown",
   "metadata": {},
   "source": [
    "### 5. size"
   ]
  },
  {
   "cell_type": "code",
   "execution_count": 18,
   "metadata": {
    "scrolled": true
   },
   "outputs": [
    {
     "data": {
      "image/png": "[encoded data removed]",
      "text/plain": [
       "<Figure size 864x864 with 2 Axes>"
      ]
     },
     "metadata": {
      "needs_background": "light"
     },
     "output_type": "display_data"
    }
   ],
   "source": [
    "plot_train_test_norm_bar(train['size'], test['size'], \"Bar chart of size\", (12, 12))"
   ]
  },
  {
   "cell_type": "markdown",
   "metadata": {},
   "source": [
    "- Most of the house are 2BHK or 3BHK, around 70% combined.\n",
    "- some of the size types are not present in train data which are present in test data.\n",
    "- some of the size types are not present in test data which are present in train data."
   ]
  },
  {
   "cell_type": "code",
   "execution_count": 34,
   "metadata": {},
   "outputs": [
    {
     "data": {
      "text/plain": [
       "31"
      ]
     },
     "metadata": {},
     "output_type": "display_data"
    },
    {
     "data": {
      "text/plain": [
       "21"
      ]
     },
     "metadata": {},
     "output_type": "display_data"
    }
   ],
   "source": [
    "display(train['size'].nunique())\n",
    "display(test['size'].nunique())"
   ]
  },
  {
   "cell_type": "code",
   "execution_count": 35,
   "metadata": {
    "scrolled": true
   },
   "outputs": [
    {
     "data": {
      "text/plain": [
       "array(['2 BHK', '4 Bedroom', '3 BHK', '4 BHK', '6 Bedroom', '3 Bedroom',\n",
       "       '1 BHK', '1 RK', '1 Bedroom', '8 Bedroom', '2 Bedroom',\n",
       "       '7 Bedroom', '5 BHK', '7 BHK', '6 BHK', '5 Bedroom', '11 BHK',\n",
       "       '9 BHK', '9 Bedroom', '27 BHK', '10 Bedroom', '11 Bedroom',\n",
       "       '10 BHK', '19 BHK', '16 BHK', '43 Bedroom', '14 BHK', '8 BHK',\n",
       "       '12 Bedroom', '13 BHK', '18 Bedroom'], dtype=object)"
      ]
     },
     "metadata": {},
     "output_type": "display_data"
    },
    {
     "data": {
      "text/plain": [
       "array(['2 BHK', '9 Bedroom', '4 Bedroom', '3 BHK', '4 BHK', '1 BHK',\n",
       "       '3 Bedroom', '1 Bedroom', '2 Bedroom', '5 Bedroom', '7 BHK',\n",
       "       '8 Bedroom', '6 Bedroom', '7 Bedroom', '1 RK', '5 BHK', '9 BHK',\n",
       "       '6 BHK', '8 BHK', '10 Bedroom', '16 Bedroom'], dtype=object)"
      ]
     },
     "metadata": {},
     "output_type": "display_data"
    }
   ],
   "source": [
    "display(train['size'].unique())\n",
    "display(test['size'].unique())"
   ]
  },
  {
   "cell_type": "code",
   "execution_count": 36,
   "metadata": {},
   "outputs": [],
   "source": [
    "train['size'] = train['size'].map({'2 BHK':2, '4 Bedroom':4, '3 BHK':3, '4 BHK':4, '6 Bedroom':6, '3 Bedroom':3,\n",
    "                                   '1 BHK':1, '1 RK':1, '1 Bedroom':1, '8 Bedroom':8, '2 Bedroom':2,\n",
    "                                   '7 Bedroom':7, '5 BHK':5, '7 BHK':7, '6 BHK':6, '5 Bedroom':5, '11 BHK':11,\n",
    "                                   '9 BHK':9, '9 Bedroom':9, '27 BHK':27, '10 Bedroom':10, '11 Bedroom':11,\n",
    "                                   '10 BHK':10, '19 BHK':19, '16 BHK':16, '43 Bedroom':43, '14 BHK':14, '8 BHK':8,\n",
    "                                   '12 Bedroom':12, '13 BHK':13, '18 Bedroom':18})\n",
    "\n",
    "test['size'] = test['size'].map({'2 BHK':2, '9 Bedroom':9, '4 Bedroom':4, '3 BHK':3, '4 BHK':4, '1 BHK':1,\n",
    "                                 '3 Bedroom':3, '1 Bedroom':1, '2 Bedroom':2, '5 Bedroom':5, '7 BHK':7,\n",
    "                                 '8 Bedroom':8, '6 Bedroom':6, '7 Bedroom':7, '1 RK':1, '5 BHK':5, '9 BHK':9,\n",
    "                                 '6 BHK':6, '8 BHK':8, '10 Bedroom':10, '16 Bedroom':16})"
   ]
  },
  {
   "cell_type": "raw",
   "metadata": {},
   "source": [
    "size_encoder = LabelEncoder()\n",
    "size_encoder.fit(train_data['size'].astype('str').append(test_data['size'].astype('str')))\n",
    "train_data['size'] = size_encoder.transform(train_data['size'].astype('str'))"
   ]
  },
  {
   "cell_type": "code",
   "execution_count": 37,
   "metadata": {
    "scrolled": true
   },
   "outputs": [
    {
     "data": {
      "text/plain": [
       "array([ 2,  4,  3,  6,  1,  8,  7,  5, 11,  9, 27, 10, 19, 16, 43, 14, 12,\n",
       "       13, 18], dtype=int64)"
      ]
     },
     "metadata": {},
     "output_type": "display_data"
    },
    {
     "data": {
      "text/plain": [
       "array([ 2,  9,  4,  3,  1,  5,  7,  8,  6, 10, 16], dtype=int64)"
      ]
     },
     "metadata": {},
     "output_type": "display_data"
    }
   ],
   "source": [
    "display(train['size'].unique())\n",
    "display(test['size'].unique())"
   ]
  },
  {
   "cell_type": "markdown",
   "metadata": {},
   "source": [
    "### 6. society"
   ]
  },
  {
   "cell_type": "code",
   "execution_count": 45,
   "metadata": {},
   "outputs": [
    {
     "data": {
      "text/plain": [
       "2688"
      ]
     },
     "metadata": {},
     "output_type": "display_data"
    },
    {
     "data": {
      "text/plain": [
       "594"
      ]
     },
     "metadata": {},
     "output_type": "display_data"
    }
   ],
   "source": [
    "display(train['society'].nunique())\n",
    "display(test['society'].nunique())"
   ]
  },
  {
   "cell_type": "code",
   "execution_count": 46,
   "metadata": {
    "scrolled": true
   },
   "outputs": [
    {
     "data": {
      "text/plain": [
       "array(['Coomee ', 'Theanmp', nan, ..., 'SJovest', 'ThhtsV ', 'RSntsAp'],\n",
       "      dtype=object)"
      ]
     },
     "metadata": {},
     "output_type": "display_data"
    },
    {
     "data": {
      "text/plain": [
       "array(['Roeekbl', nan, 'Saandtt', 'Winerri', 'AmageSa', 'G aceer',\n",
       "       'Soitya ', 'Maity W', 'Maensar', 'Prtanha', 'Gaodsch', 'Vrenty ',\n",
       "       'Mahesr ', 'Dhalsh ', 'SrEndPo', 'Leino C', 'Kuave E', 'Sooneoo',\n",
       "       'BSensth', 'Contsci', 'Tahtsla', 'Niborik', 'Caycend', 'Klark L',\n",
       "       'NiarkHy', 'Asareur', 'Prlla C', 'Prtates', 'Srshq T', 'Prldsri',\n",
       "       'SSestth', 'PuandHi', 'GoAirej', 'DLhtsnd', 'Shestlo', 'Shateor',\n",
       "       'GoityEt', 'Alestrb', 'DantsAp', 'Maidsr ', 'SheldGr', 'ColeyNa',\n",
       "       'UnlisAc', 'Miiewa ', 'Somns T', 'Gantspa', 'Tavenew', 'Pride S',\n",
       "       'Bhiya N', 'Prarkun', 'PuendWe', 'Prarkhi', 'NRowse ', 'S alsPe',\n",
       "       'Goted U', 'Saaveri', 'Shileve', 'Aklia R', 'Assha A', 'Daives ',\n",
       "       'Goues A', 'RMaanSa', 'Emine P', 'Vayali ', 'Grure S', 'NSnexav',\n",
       "       'SSdhimr', 'Neisear', 'Cerdsga', 'Prersis', 'Riiew L', 'Paune F',\n",
       "       'PrandHo', 'Soazak ', 'RAncyeg', 'Prityel', 'Brway G', 'ElaleSp',\n",
       "       'Dhniaad', 'Crior E', 'Dieldli', 'Ieuseut', 'Pae 1ov', 'HMwerCo',\n",
       "       'Bhmesy ', 'Maoma P', 'Suise S', 'Vaaram ', 'Amsomun', 'Vaodssh',\n",
       "       'PualeSk', 'Oreldhi', 'DFityin', 'Soeurri', 'SaireSa', 'Sudeslv',\n",
       "       'Jae 1ke', 'SVstos ', 'Ske 2ad', 'DSata S', 'DSghtra', 'SoineC ',\n",
       "       'DSesthr', 'BrnoxEq', 'Ariew J', 'GrrvaGr', 'Pridsi ', 'Saciatt',\n",
       "       'Prllsan', 'Valdsic', 'PSterAs', 'SLvasNi', 'MaaveEn', 'Hieryni',\n",
       "       'Patri M', 'Shodsir', 'Puinaia', 'SNnia E', 'Kaamai ', 'KSicaxo',\n",
       "       'Myple M', 'Skacak ', 'DSineSu', 'Kritel ', 'Cooutid', 'DSera S',\n",
       "       'OmentCl', 'Leora E', 'SPontna', 'TZllaes', 'IBityin', 'Aconyit',\n",
       "       'Vangsld', 'Keers S', 'SudenEd', 'Bhe 2ko', 'i1rtsCo', 'Roa 2ha',\n",
       "       'Kacesh ', 'ViistLa', 'SunceEs', 'SVlesas', 'Brtiael', 'Hohnari',\n",
       "       'RoisePa', 'DhncyRe', 'Saitya ', '3Codeli', 'JRrnauv', 'Vaisei ',\n",
       "       'P acera', 'Brglede', 'Sahtsi ', 'Itvir M', 'Rosha I', 'Krton S',\n",
       "       'Brica E', 'Raide P', 'Rie 2ri', 'SLureSi', 'Puarero', 'Bipan A',\n",
       "       'Shitt S', 'Sryalan', 'SSthamh', 'Raosehi', 'Brium C', 'Bharani',\n",
       "       'Bhncy R', 'Aklon A', 'MKensi ', 'Pao 2Sm', 'DLhtsan', 'Vacle P',\n",
       "       'Veales ', 'NaersSh', 'Goty  E', 'BrontLa', 'Puallhi', 'Krryll ',\n",
       "       'VBn 2lm', 'Sondaka', 'NCowsar', 'Soianal', 'SLaceda', 'Mayne A',\n",
       "       'Dyayash', 'AsNowre', 'Roiti A', 'Moersrm', 'Adeatlm', 'Puachal',\n",
       "       'PaontWa', 'Sovar S', 'Octons ', 'GMown E', 'Brods W', 'Soiniy ',\n",
       "       'AlentAp', 'MJiyayl', 'PrityTr', 'SJarkte', 'Raard B', 'Soiewre',\n",
       "       'PrOakSi', 'Gencysi', 'AriosPa', 'VancyRe', 'SarkkHy', 'Prowshi',\n",
       "       'Prncy R', 'FeisePa', 'Gaent R', 'SNontle', 'Peide L', 'MBncyh ',\n",
       "       'Fea 3Al', 'SaageWi', 'Puarka ', 'DNionfl', 'Miwel M', 'Soresea',\n",
       "       'Ahriaup', 'Ayaya A', 'Akave E', 'Mantsm ', 'Puitea ', 'Manetr ',\n",
       "       'MCvarar', 'Soamsay', 'SNbay G', 'Shiaa S', 'Mahosya', 'RSntsAp',\n",
       "       'PavesGr', 'ArndsSk', 'R ra  R', 'Neisei ', 'SuVue S', 'Arsil B',\n",
       "       'Prntsax', 'SSaleRo', 'Kuownri', 'Cehosy ', 'V2anags', 'Saageat',\n",
       "       'Hivesdr', 'Alubys ', 'Prncyrn', 'DatroGo', 'MJinele', 'Brnumnn',\n",
       "       'Dehtipt', 'DLhtsen', 'MRmesra', 'Sreat R', 'Kulons ', 'Siissi ',\n",
       "       'KPareis', 'DNeremo', 'BriewPa', 'Teara S', 'Emage H', 'Srllaan',\n",
       "       'RInceeg', 'Ulure S', 'Saite G', 'SrisePo', 'AsastDe', 'SVodsve',\n",
       "       'Brnia G', 'Chaldi ', 'PrawnRa', 'KonteiT', 'CMhidal', 'Reiteee',\n",
       "       'Mathipo', 'Emterl ', 'SJityaz', 'DSthi K', 'SApusnu', 'Sanzaat',\n",
       "       'BrdgeNo', 'Opamaan', 'Saowson', 'Pyaded ', 'Hahtsya', 'AztheBr',\n",
       "       'Sariaat', 'NDionas', 'Maows M', 'Asintas', 'Baveles', 'Shony S',\n",
       "       'NVdenic', 'Saeur G', 'Mysha N', 'Srure S', 'Jaades ', 'JahtsHe',\n",
       "       'Grmes L', 'Maana E', 'Gomeseg', 'Raellil', 'Soweray', 'BMngsr ',\n",
       "       'DSantky', 'Prndsde', 'Sosisic', 'Sapus S', 'Prrtht ', 'MNncysi',\n",
       "       'PrBayGa', 'PhestOn', 'Sodgere', 'MMiewke', 'Prdhue ', 'MBodsen',\n",
       "       'RMudeat', 'Srier P', 'DiiteR ', 'Jaw 2 L', 'Toindls', 'Lecco C',\n",
       "       'Thessrm', 'AkArkti', 'Brrds O', 'Srera P', 'Toreeic', 'Paoliy ',\n",
       "       'Mileeou', 'ShshaSa', 'BrlisCo', 'G conTh', 'Darsh S', 'G ceses',\n",
       "       'Sraveha', 'SiidsGa', 'PuonsSe', 'Aling10', 'Skume R', 'DNncasa',\n",
       "       'Hoston ', 'SrncyRe', 'Niacesa', 'MItatHa', 'SryleHo', 'Myolai ',\n",
       "       'Jae 2hu', 'SRionri', 'Baowsig', 'Raion M', 'Vandak ', 'DSestpr',\n",
       "       'ARnamru', 'Diacee ', 'Cunts A', 'ICoolon', 'Unksh P', 'Maionra',\n",
       "       'Nimeska', 'Alivae ', 'HoAcela', 'Prldsum', 'SLnssPr', 'MauilTr',\n",
       "       'Brntsal', 'Hirio L', 'LencyRe', 'ElireSo', 'AcisePa', 'DShtsow',\n",
       "       'GoratAr', 'Churad ', 'S mesci', 'PlhtsHe', 'SaisePa', 'KBnnupu',\n",
       "       'Scentl ', 'SVhtsei', 'Nathira', 'Mahla T', 'Hiate F', 'Vasta V',\n",
       "       'VBavaai', 'Hintsk ', 'MaisePa', 'Shise P', 'HRaniIb', 'Emhtsl ',\n",
       "       'Adarli ', 'DSrat S', 'Wisic C', 'Kolisl ', 'Samesar', 'Shreean',\n",
       "       'Shana S', 'GRlas V', 'PNinena', 'ArnzaFi', 'Bhensa ', 'KSliaor',\n",
       "       'PrarePa', 'NCs 2rj', 'Prlis A', 'Shestut', 'Srncya ', 'SoechHa',\n",
       "       'Trave E', 'Pronyt ', 'Shntie ', 'Prigh L', 'MancyRe', 'Syonyph',\n",
       "       'She 2rk', 'Reitice', 'Rarelt ', 'Sthtsg ', 'AbarkVa', 'Soowsa ',\n",
       "       'Niair M', 'JRarlPe', 'DSdorSp', 'Srini S', 'KHatsFl', 'Naory G',\n",
       "       'Umods W', 'Adens G', 'Sancya ', 'Leilo E', 'Neide P', 'Ceityy ',\n",
       "       'Sincyh ', 'Trade E', 'Soini T', 'Prensya', 'NCdgerj', 'SLtalry',\n",
       "       'BriumMi', 'Puodsm ', 'Sabixtt', 'GRarken', 'Vaosei ', 'DSapeto',\n",
       "       'Oaeze B', 'OlarkLa', 'Eladero', 'Xeitaa ', 'Niimet ', 'Coa 3t ',\n",
       "       'Sohea A', 'Prlmsge', 'Cuohahi', 'K ncy R', 'Prleaou', 'Sahtsva',\n",
       "       'DSoodSh', 'Vaodak ', 'Maentr ', 'Bilya A', 'Asarqz ', 'Shxorm ',\n",
       "       'Prhtsok', 'AvensGa', 'Dhncyud', 'Laavehr', 'LiSkys ', 'Music C',\n",
       "       'Juoryma', 'SandaSk', 'ARaveSa', 'CVncesh', 'Pyodsre', 'Bavasi ',\n",
       "       'SSityri', 'Puwerun', 'DSitySe', 'Sotosty', 'Suhama ', 'MSingco',\n",
       "       'Sriew L', 'KBityo ', 'NVaree ', 'Ammesss', 'Adntslo', 'Arenta ',\n",
       "       'HMlusad', 'Prodsth', 'MSodsGr', 'Pu270a ', 'Centss ', 'YMarlti',\n",
       "       'Prdenth', 'Aroomba', 'GKowsea', 'SosonGa', 'VRngsKi', 'HMigond',\n",
       "       'NDpalSe', 'Sowerew', 'SozonHo', 'Cetattu', 'Puestol', 'SoystAm',\n",
       "       'Leeno S', 'PaaraSa', 'Vaensnh', 'Kr 10Ca', 'Ceiti I', 'Prventh',\n",
       "       'Saahaat', 'Jaood G', 'AkonyHa', 'Srrlsnu', 'SoageHe', 'Sadhii ',\n",
       "       'Shyas S', 'Puion M', 'Prrry M', 'Mancyes', 'SGiewll', 'NRosete',\n",
       "       'Prageta', 'NCensun', 'Saacesa', 'Maeeker', 'Unrtswo', 'PrntaEn',\n",
       "       'AjityIn', 'SSoraba', 'Srentan', 'PueraRi', 'Abialri', 'Raeusiy',\n",
       "       'SNdri N', 'SothaCh', 'Rarkkod', 'Nazea B', 'Putere ', 'Prionad',\n",
       "       'NStusD ', 'MenueNo', 'SrntsRV', 'Vasta C', 'PuageVa', 'Esatea ',\n",
       "       'Isncasa', 'ArzzaRe', 'VRdelit', 'Prenty ', 'Ahciace', 'Amonyum',\n",
       "       'DSoodil', 'AritaFe', 'Adxira ', 'Satanan', 'Sulla S', 'SrSaira',\n",
       "       'Jar 1 S', 'Sumesa ', 'Pyikad ', 'NRodsen', 'Caiya D', 'HMonymp',\n",
       "       'Skania ', 'Prcesvy', 'Jaers S', 'CotleCa', 'DSestSt', 'SosicCl',\n",
       "       'Goodsrb', 'NiCodCa', 'Veodsar', 'VeniaGa', 'Raodsre', 'DSthian',\n",
       "       'SVveso ', 'Maineri', 'Grterrr', 'Unm 2El', 'Stlomg ', 'Niiewem',\n",
       "       'ViisePa', 'Srnyxda', 'ARntyne', 'Traven ', 'Ozquaba', 'Haidea ',\n",
       "       'SStusan', 'Shazai ', 'PuilaMi', 'Udayaur', 'KlarkBe', 'Brent C',\n",
       "       'MaicaRS'], dtype=object)"
      ]
     },
     "metadata": {},
     "output_type": "display_data"
    }
   ],
   "source": [
    "display(train['society'].unique())\n",
    "display(test['society'].unique())"
   ]
  },
  {
   "cell_type": "markdown",
   "metadata": {},
   "source": [
    "### Model Evaluation"
   ]
  },
  {
   "cell_type": "code",
   "execution_count": 38,
   "metadata": {
    "scrolled": true
   },
   "outputs": [
    {
     "data": {
      "text/html": [
       "<div>\n",
       "<style scoped>\n",
       "    .dataframe tbody tr th:only-of-type {\n",
       "        vertical-align: middle;\n",
       "    }\n",
       "\n",
       "    .dataframe tbody tr th {\n",
       "        vertical-align: top;\n",
       "    }\n",
       "\n",
       "    .dataframe thead th {\n",
       "        text-align: right;\n",
       "    }\n",
       "</style>\n",
       "<table border=\"1\" class=\"dataframe\">\n",
       "  <thead>\n",
       "    <tr style=\"text-align: right;\">\n",
       "      <th></th>\n",
       "      <th>area_type</th>\n",
       "      <th>availability</th>\n",
       "      <th>location</th>\n",
       "      <th>size</th>\n",
       "      <th>society</th>\n",
       "      <th>total_sqft</th>\n",
       "      <th>bath</th>\n",
       "      <th>balcony</th>\n",
       "      <th>price</th>\n",
       "    </tr>\n",
       "  </thead>\n",
       "  <tbody>\n",
       "    <tr>\n",
       "      <th>0</th>\n",
       "      <td>0</td>\n",
       "      <td>2</td>\n",
       "      <td>430</td>\n",
       "      <td>2</td>\n",
       "      <td>Coomee</td>\n",
       "      <td>1056</td>\n",
       "      <td>2.0</td>\n",
       "      <td>1.0</td>\n",
       "      <td>39.07</td>\n",
       "    </tr>\n",
       "    <tr>\n",
       "      <th>1</th>\n",
       "      <td>2</td>\n",
       "      <td>0</td>\n",
       "      <td>325</td>\n",
       "      <td>4</td>\n",
       "      <td>Theanmp</td>\n",
       "      <td>2600</td>\n",
       "      <td>5.0</td>\n",
       "      <td>3.0</td>\n",
       "      <td>120.00</td>\n",
       "    </tr>\n",
       "    <tr>\n",
       "      <th>2</th>\n",
       "      <td>1</td>\n",
       "      <td>0</td>\n",
       "      <td>1219</td>\n",
       "      <td>3</td>\n",
       "      <td>NaN</td>\n",
       "      <td>1440</td>\n",
       "      <td>2.0</td>\n",
       "      <td>3.0</td>\n",
       "      <td>62.00</td>\n",
       "    </tr>\n",
       "    <tr>\n",
       "      <th>3</th>\n",
       "      <td>0</td>\n",
       "      <td>0</td>\n",
       "      <td>778</td>\n",
       "      <td>3</td>\n",
       "      <td>Soiewre</td>\n",
       "      <td>1521</td>\n",
       "      <td>3.0</td>\n",
       "      <td>1.0</td>\n",
       "      <td>95.00</td>\n",
       "    </tr>\n",
       "    <tr>\n",
       "      <th>4</th>\n",
       "      <td>0</td>\n",
       "      <td>0</td>\n",
       "      <td>736</td>\n",
       "      <td>2</td>\n",
       "      <td>NaN</td>\n",
       "      <td>1200</td>\n",
       "      <td>2.0</td>\n",
       "      <td>1.0</td>\n",
       "      <td>51.00</td>\n",
       "    </tr>\n",
       "  </tbody>\n",
       "</table>\n",
       "</div>"
      ],
      "text/plain": [
       "   area_type  availability  location  size  society total_sqft  bath  balcony  \\\n",
       "0          0             2       430     2  Coomee        1056   2.0      1.0   \n",
       "1          2             0       325     4  Theanmp       2600   5.0      3.0   \n",
       "2          1             0      1219     3      NaN       1440   2.0      3.0   \n",
       "3          0             0       778     3  Soiewre       1521   3.0      1.0   \n",
       "4          0             0       736     2      NaN       1200   2.0      1.0   \n",
       "\n",
       "    price  \n",
       "0   39.07  \n",
       "1  120.00  \n",
       "2   62.00  \n",
       "3   95.00  \n",
       "4   51.00  "
      ]
     },
     "execution_count": 38,
     "metadata": {},
     "output_type": "execute_result"
    }
   ],
   "source": [
    "train.head()"
   ]
  },
  {
   "cell_type": "code",
   "execution_count": 39,
   "metadata": {
    "scrolled": false
   },
   "outputs": [
    {
     "data": {
      "text/html": [
       "<div>\n",
       "<style scoped>\n",
       "    .dataframe tbody tr th:only-of-type {\n",
       "        vertical-align: middle;\n",
       "    }\n",
       "\n",
       "    .dataframe tbody tr th {\n",
       "        vertical-align: top;\n",
       "    }\n",
       "\n",
       "    .dataframe thead th {\n",
       "        text-align: right;\n",
       "    }\n",
       "</style>\n",
       "<table border=\"1\" class=\"dataframe\">\n",
       "  <thead>\n",
       "    <tr style=\"text-align: right;\">\n",
       "      <th></th>\n",
       "      <th>area_type</th>\n",
       "      <th>availability</th>\n",
       "      <th>location</th>\n",
       "      <th>size</th>\n",
       "      <th>society</th>\n",
       "      <th>total_sqft</th>\n",
       "      <th>bath</th>\n",
       "      <th>balcony</th>\n",
       "      <th>price</th>\n",
       "    </tr>\n",
       "  </thead>\n",
       "  <tbody>\n",
       "    <tr>\n",
       "      <th>0</th>\n",
       "      <td>0</td>\n",
       "      <td>0</td>\n",
       "      <td>284</td>\n",
       "      <td>2</td>\n",
       "      <td>Roeekbl</td>\n",
       "      <td>1225</td>\n",
       "      <td>2.0</td>\n",
       "      <td>2.0</td>\n",
       "      <td>NaN</td>\n",
       "    </tr>\n",
       "    <tr>\n",
       "      <th>1</th>\n",
       "      <td>2</td>\n",
       "      <td>0</td>\n",
       "      <td>103</td>\n",
       "      <td>9</td>\n",
       "      <td>NaN</td>\n",
       "      <td>2400</td>\n",
       "      <td>9.0</td>\n",
       "      <td>2.0</td>\n",
       "      <td>NaN</td>\n",
       "    </tr>\n",
       "    <tr>\n",
       "      <th>2</th>\n",
       "      <td>2</td>\n",
       "      <td>2</td>\n",
       "      <td>534</td>\n",
       "      <td>4</td>\n",
       "      <td>Saandtt</td>\n",
       "      <td>1650</td>\n",
       "      <td>5.0</td>\n",
       "      <td>2.0</td>\n",
       "      <td>NaN</td>\n",
       "    </tr>\n",
       "    <tr>\n",
       "      <th>3</th>\n",
       "      <td>0</td>\n",
       "      <td>0</td>\n",
       "      <td>721</td>\n",
       "      <td>3</td>\n",
       "      <td>Winerri</td>\n",
       "      <td>1322</td>\n",
       "      <td>3.0</td>\n",
       "      <td>1.0</td>\n",
       "      <td>NaN</td>\n",
       "    </tr>\n",
       "    <tr>\n",
       "      <th>4</th>\n",
       "      <td>0</td>\n",
       "      <td>0</td>\n",
       "      <td>727</td>\n",
       "      <td>2</td>\n",
       "      <td>AmageSa</td>\n",
       "      <td>1161</td>\n",
       "      <td>2.0</td>\n",
       "      <td>1.0</td>\n",
       "      <td>NaN</td>\n",
       "    </tr>\n",
       "  </tbody>\n",
       "</table>\n",
       "</div>"
      ],
      "text/plain": [
       "   area_type  availability  location  size  society total_sqft  bath  balcony  \\\n",
       "0          0             0       284     2  Roeekbl       1225   2.0      2.0   \n",
       "1          2             0       103     9      NaN       2400   9.0      2.0   \n",
       "2          2             2       534     4  Saandtt       1650   5.0      2.0   \n",
       "3          0             0       721     3  Winerri       1322   3.0      1.0   \n",
       "4          0             0       727     2  AmageSa       1161   2.0      1.0   \n",
       "\n",
       "   price  \n",
       "0    NaN  \n",
       "1    NaN  \n",
       "2    NaN  \n",
       "3    NaN  \n",
       "4    NaN  "
      ]
     },
     "execution_count": 39,
     "metadata": {},
     "output_type": "execute_result"
    }
   ],
   "source": [
    "test.head()"
   ]
  },
  {
   "cell_type": "code",
   "execution_count": 41,
   "metadata": {},
   "outputs": [
    {
     "data": {
      "text/html": [
       "<div>\n",
       "<style scoped>\n",
       "    .dataframe tbody tr th:only-of-type {\n",
       "        vertical-align: middle;\n",
       "    }\n",
       "\n",
       "    .dataframe tbody tr th {\n",
       "        vertical-align: top;\n",
       "    }\n",
       "\n",
       "    .dataframe thead th {\n",
       "        text-align: right;\n",
       "    }\n",
       "</style>\n",
       "<table border=\"1\" class=\"dataframe\">\n",
       "  <thead>\n",
       "    <tr style=\"text-align: right;\">\n",
       "      <th></th>\n",
       "      <th>area_type</th>\n",
       "      <th>availability</th>\n",
       "      <th>location</th>\n",
       "      <th>size</th>\n",
       "      <th>bath</th>\n",
       "      <th>balcony</th>\n",
       "      <th>price</th>\n",
       "    </tr>\n",
       "  </thead>\n",
       "  <tbody>\n",
       "    <tr>\n",
       "      <th>0</th>\n",
       "      <td>0</td>\n",
       "      <td>2</td>\n",
       "      <td>430</td>\n",
       "      <td>2</td>\n",
       "      <td>2.0</td>\n",
       "      <td>1.0</td>\n",
       "      <td>39.07</td>\n",
       "    </tr>\n",
       "    <tr>\n",
       "      <th>1</th>\n",
       "      <td>2</td>\n",
       "      <td>0</td>\n",
       "      <td>325</td>\n",
       "      <td>4</td>\n",
       "      <td>5.0</td>\n",
       "      <td>3.0</td>\n",
       "      <td>120.00</td>\n",
       "    </tr>\n",
       "    <tr>\n",
       "      <th>2</th>\n",
       "      <td>1</td>\n",
       "      <td>0</td>\n",
       "      <td>1219</td>\n",
       "      <td>3</td>\n",
       "      <td>2.0</td>\n",
       "      <td>3.0</td>\n",
       "      <td>62.00</td>\n",
       "    </tr>\n",
       "    <tr>\n",
       "      <th>3</th>\n",
       "      <td>0</td>\n",
       "      <td>0</td>\n",
       "      <td>778</td>\n",
       "      <td>3</td>\n",
       "      <td>3.0</td>\n",
       "      <td>1.0</td>\n",
       "      <td>95.00</td>\n",
       "    </tr>\n",
       "    <tr>\n",
       "      <th>4</th>\n",
       "      <td>0</td>\n",
       "      <td>0</td>\n",
       "      <td>736</td>\n",
       "      <td>2</td>\n",
       "      <td>2.0</td>\n",
       "      <td>1.0</td>\n",
       "      <td>51.00</td>\n",
       "    </tr>\n",
       "  </tbody>\n",
       "</table>\n",
       "</div>"
      ],
      "text/plain": [
       "   area_type  availability  location  size  bath  balcony   price\n",
       "0          0             2       430     2   2.0      1.0   39.07\n",
       "1          2             0       325     4   5.0      3.0  120.00\n",
       "2          1             0      1219     3   2.0      3.0   62.00\n",
       "3          0             0       778     3   3.0      1.0   95.00\n",
       "4          0             0       736     2   2.0      1.0   51.00"
      ]
     },
     "metadata": {},
     "output_type": "display_data"
    },
    {
     "name": "stdout",
     "output_type": "stream",
     "text": [
      "\n",
      "\n"
     ]
    },
    {
     "data": {
      "text/plain": [
       "Index(['area_type', 'availability', 'location', 'size', 'bath', 'balcony',\n",
       "       'price'],\n",
       "      dtype='object')"
      ]
     },
     "execution_count": 41,
     "metadata": {},
     "output_type": "execute_result"
    }
   ],
   "source": [
    "numeric_cols_train = train.select_dtypes(include=[np.number])\n",
    "display(numeric_cols_train.head())\n",
    "print('\\n')\n",
    "numeric_cols_train.columns"
   ]
  },
  {
   "cell_type": "code",
   "execution_count": 42,
   "metadata": {},
   "outputs": [
    {
     "data": {
      "text/html": [
       "<div>\n",
       "<style scoped>\n",
       "    .dataframe tbody tr th:only-of-type {\n",
       "        vertical-align: middle;\n",
       "    }\n",
       "\n",
       "    .dataframe tbody tr th {\n",
       "        vertical-align: top;\n",
       "    }\n",
       "\n",
       "    .dataframe thead th {\n",
       "        text-align: right;\n",
       "    }\n",
       "</style>\n",
       "<table border=\"1\" class=\"dataframe\">\n",
       "  <thead>\n",
       "    <tr style=\"text-align: right;\">\n",
       "      <th></th>\n",
       "      <th>area_type</th>\n",
       "      <th>availability</th>\n",
       "      <th>location</th>\n",
       "      <th>size</th>\n",
       "      <th>bath</th>\n",
       "      <th>balcony</th>\n",
       "      <th>price</th>\n",
       "    </tr>\n",
       "  </thead>\n",
       "  <tbody>\n",
       "    <tr>\n",
       "      <th>0</th>\n",
       "      <td>0</td>\n",
       "      <td>0</td>\n",
       "      <td>284</td>\n",
       "      <td>2</td>\n",
       "      <td>2.0</td>\n",
       "      <td>2.0</td>\n",
       "      <td>NaN</td>\n",
       "    </tr>\n",
       "    <tr>\n",
       "      <th>1</th>\n",
       "      <td>2</td>\n",
       "      <td>0</td>\n",
       "      <td>103</td>\n",
       "      <td>9</td>\n",
       "      <td>9.0</td>\n",
       "      <td>2.0</td>\n",
       "      <td>NaN</td>\n",
       "    </tr>\n",
       "    <tr>\n",
       "      <th>2</th>\n",
       "      <td>2</td>\n",
       "      <td>2</td>\n",
       "      <td>534</td>\n",
       "      <td>4</td>\n",
       "      <td>5.0</td>\n",
       "      <td>2.0</td>\n",
       "      <td>NaN</td>\n",
       "    </tr>\n",
       "    <tr>\n",
       "      <th>3</th>\n",
       "      <td>0</td>\n",
       "      <td>0</td>\n",
       "      <td>721</td>\n",
       "      <td>3</td>\n",
       "      <td>3.0</td>\n",
       "      <td>1.0</td>\n",
       "      <td>NaN</td>\n",
       "    </tr>\n",
       "    <tr>\n",
       "      <th>4</th>\n",
       "      <td>0</td>\n",
       "      <td>0</td>\n",
       "      <td>727</td>\n",
       "      <td>2</td>\n",
       "      <td>2.0</td>\n",
       "      <td>1.0</td>\n",
       "      <td>NaN</td>\n",
       "    </tr>\n",
       "  </tbody>\n",
       "</table>\n",
       "</div>"
      ],
      "text/plain": [
       "   area_type  availability  location  size  bath  balcony  price\n",
       "0          0             0       284     2   2.0      2.0    NaN\n",
       "1          2             0       103     9   9.0      2.0    NaN\n",
       "2          2             2       534     4   5.0      2.0    NaN\n",
       "3          0             0       721     3   3.0      1.0    NaN\n",
       "4          0             0       727     2   2.0      1.0    NaN"
      ]
     },
     "metadata": {},
     "output_type": "display_data"
    },
    {
     "name": "stdout",
     "output_type": "stream",
     "text": [
      "\n",
      "\n"
     ]
    },
    {
     "data": {
      "text/plain": [
       "Index(['area_type', 'availability', 'location', 'size', 'bath', 'balcony',\n",
       "       'price'],\n",
       "      dtype='object')"
      ]
     },
     "execution_count": 42,
     "metadata": {},
     "output_type": "execute_result"
    }
   ],
   "source": [
    "numeric_cols_test = test.select_dtypes(include=[np.number])\n",
    "display(numeric_cols_test.head())\n",
    "print('\\n')\n",
    "numeric_cols_test.columns"
   ]
  },
  {
   "cell_type": "code",
   "execution_count": 43,
   "metadata": {},
   "outputs": [],
   "source": [
    "X = numeric_cols_train.iloc[:,:-1]\n",
    "y = numeric_cols_train['price']"
   ]
  },
  {
   "cell_type": "code",
   "execution_count": 45,
   "metadata": {},
   "outputs": [],
   "source": [
    "# split  data into training and testing sets of 80:20 ratio\n",
    "# 20% of test size selected\n",
    "# random_state is random seed\n",
    "X_train, X_test, y_train, y_test = train_test_split(X,y,test_size=0.2, random_state=4)"
   ]
  },
  {
   "cell_type": "code",
   "execution_count": 46,
   "metadata": {},
   "outputs": [
    {
     "name": "stdout",
     "output_type": "stream",
     "text": [
      "(10656, 6) (2664, 6) (10656,) (2664,)\n"
     ]
    }
   ],
   "source": [
    "# shape of X & Y test / train\n",
    "print(X_train.shape, X_test.shape, y_train.shape, y_test.shape)"
   ]
  },
  {
   "cell_type": "markdown",
   "metadata": {},
   "source": [
    "### Linear Regression / Lasso / Ridge"
   ]
  },
  {
   "cell_type": "code",
   "execution_count": 47,
   "metadata": {},
   "outputs": [
    {
     "data": {
      "text/plain": [
       "LinearRegression(copy_X=True, fit_intercept=True, n_jobs=None,\n",
       "         normalize=False)"
      ]
     },
     "execution_count": 47,
     "metadata": {},
     "output_type": "execute_result"
    }
   ],
   "source": [
    "LinReg = LinearRegression()\n",
    "LinReg.fit(X_train, y_train)"
   ]
  },
  {
   "cell_type": "code",
   "execution_count": 48,
   "metadata": {},
   "outputs": [
    {
     "data": {
      "text/plain": [
       "Lasso(alpha=1.0, copy_X=True, fit_intercept=True, max_iter=1000,\n",
       "   normalize=False, positive=False, precompute=False, random_state=None,\n",
       "   selection='cyclic', tol=0.0001, warm_start=False)"
      ]
     },
     "execution_count": 48,
     "metadata": {},
     "output_type": "execute_result"
    }
   ],
   "source": [
    "# Lasso Regression\n",
    "lasso = Lasso()\n",
    "lasso.fit(X_train, y_train)"
   ]
  },
  {
   "cell_type": "code",
   "execution_count": 49,
   "metadata": {},
   "outputs": [
    {
     "data": {
      "text/plain": [
       "Ridge(alpha=1.0, copy_X=True, fit_intercept=True, max_iter=None,\n",
       "   normalize=False, random_state=None, solver='auto', tol=0.001)"
      ]
     },
     "execution_count": 49,
     "metadata": {},
     "output_type": "execute_result"
    }
   ],
   "source": [
    "# Ridge Regression\n",
    "ridge = Ridge()\n",
    "ridge.fit(X_train, y_train)"
   ]
  },
  {
   "cell_type": "code",
   "execution_count": 50,
   "metadata": {},
   "outputs": [],
   "source": [
    "y_pred_LinReg = LinReg.predict(X_test)\n",
    "y_pred_lasso = lasso.predict(X_test)\n",
    "y_pred_ridge = ridge.predict(X_test)"
   ]
  },
  {
   "cell_type": "code",
   "execution_count": 51,
   "metadata": {
    "scrolled": true
   },
   "outputs": [
    {
     "name": "stdout",
     "output_type": "stream",
     "text": [
      "Train Score 0.21 & Test Score 0.24\n",
      "Train Score 0.21 & Test Score 0.24\n",
      "Train Score 0.21 & Test Score 0.24\n"
     ]
    }
   ],
   "source": [
    "print(\"Train Score {:.2f} & Test Score {:.2f}\".format(LinReg.score(X_train, y_train), LinReg.score(X_test, y_test)))\n",
    "print(\"Train Score {:.2f} & Test Score {:.2f}\".format(lasso.score(X_train, y_train), lasso.score(X_test, y_test)))\n",
    "print(\"Train Score {:.2f} & Test Score {:.2f}\".format(ridge.score(X_train, y_train), ridge.score(X_test, y_test)))"
   ]
  },
  {
   "cell_type": "markdown",
   "metadata": {},
   "source": [
    "### Random Forest"
   ]
  },
  {
   "cell_type": "code",
   "execution_count": 52,
   "metadata": {},
   "outputs": [
    {
     "name": "stderr",
     "output_type": "stream",
     "text": [
      "C:\\Users\\deepusuresh\\Anaconda3\\lib\\site-packages\\sklearn\\ensemble\\forest.py:246: FutureWarning: The default value of n_estimators will change from 10 in version 0.20 to 100 in 0.22.\n",
      "  \"10 in version 0.20 to 100 in 0.22.\", FutureWarning)\n"
     ]
    },
    {
     "data": {
      "text/plain": [
       "RandomForestRegressor(bootstrap=True, criterion='mse', max_depth=None,\n",
       "           max_features='auto', max_leaf_nodes=None,\n",
       "           min_impurity_decrease=0.0, min_impurity_split=None,\n",
       "           min_samples_leaf=1, min_samples_split=2,\n",
       "           min_weight_fraction_leaf=0.0, n_estimators=10, n_jobs=None,\n",
       "           oob_score=False, random_state=None, verbose=0, warm_start=False)"
      ]
     },
     "execution_count": 52,
     "metadata": {},
     "output_type": "execute_result"
    }
   ],
   "source": [
    "rfc = RandomForestRegressor()\n",
    "rfc.fit(X_train, y_train)"
   ]
  },
  {
   "cell_type": "code",
   "execution_count": 53,
   "metadata": {},
   "outputs": [],
   "source": [
    "y_pred_xgb = rfc.predict(X_test)"
   ]
  },
  {
   "cell_type": "code",
   "execution_count": 54,
   "metadata": {},
   "outputs": [
    {
     "name": "stdout",
     "output_type": "stream",
     "text": [
      "Train Score 0.86 & Test Score 0.26\n"
     ]
    }
   ],
   "source": [
    "print(\"Train Score {:.2f} & Test Score {:.2f}\".format(rfc.score(X_train,y_train), rfc.score(X_test,y_test)))"
   ]
  },
  {
   "cell_type": "markdown",
   "metadata": {},
   "source": []
  },
  {
   "cell_type": "code",
   "execution_count": null,
   "metadata": {},
   "outputs": [],
   "source": [
    "rf = RandomForestRegressor(n_estimators=600,\n",
    "                             max_depth= 5,\n",
    "                             max_leaf_nodes= 15,\n",
    "                             min_samples_leaf= 3,\n",
    "                             min_samples_split= 10,\n",
    "                             random_state=0)\n",
    "rf.fit(X_train, y_train)"
   ]
  },
  {
   "cell_type": "code",
   "execution_count": null,
   "metadata": {},
   "outputs": [],
   "source": [
    "y_pred_xgb = rfc.predict(X_test)"
   ]
  },
  {
   "cell_type": "code",
   "execution_count": null,
   "metadata": {},
   "outputs": [],
   "source": [
    "print(\"Train Score {:.2f} & Test Score {:.2f}\".format(rfc.score(X_train,y_train), rfc.score(X_test,y_test)))"
   ]
  },
  {
   "cell_type": "markdown",
   "metadata": {},
   "source": [
    "### XGBOOST"
   ]
  },
  {
   "cell_type": "code",
   "execution_count": 55,
   "metadata": {},
   "outputs": [
    {
     "data": {
      "text/plain": [
       "XGBRegressor(base_score=0.5, booster='gbtree', colsample_bylevel=1,\n",
       "       colsample_bynode=1, colsample_bytree=1, gamma=0, gpu_id=-1,\n",
       "       importance_type='gain', interaction_constraints='',\n",
       "       learning_rate=0.300000012, max_delta_step=0, max_depth=6,\n",
       "       min_child_weight=1, missing=nan, monotone_constraints='()',\n",
       "       n_estimators=100, n_jobs=0, num_parallel_tree=1,\n",
       "       objective='reg:squarederror', random_state=0, reg_alpha=0,\n",
       "       reg_lambda=1, scale_pos_weight=1, subsample=1, tree_method='exact',\n",
       "       validate_parameters=1, verbosity=None)"
      ]
     },
     "execution_count": 55,
     "metadata": {},
     "output_type": "execute_result"
    }
   ],
   "source": [
    "reg_xgb = xgboost.XGBRegressor()\n",
    "reg_xgb.fit(X_train, y_train)"
   ]
  },
  {
   "cell_type": "code",
   "execution_count": 56,
   "metadata": {},
   "outputs": [],
   "source": [
    "y_pred_xgb = reg_xgb.predict(X_test)"
   ]
  },
  {
   "cell_type": "code",
   "execution_count": 57,
   "metadata": {},
   "outputs": [
    {
     "name": "stdout",
     "output_type": "stream",
     "text": [
      "Train Score 0.87 & Test Score 0.44\n"
     ]
    }
   ],
   "source": [
    "print(\"Train Score {:.2f} & Test Score {:.2f}\".format(reg_xgb.score(X_train,y_train),reg_xgb.score(X_test,y_test)))"
   ]
  },
  {
   "cell_type": "markdown",
   "metadata": {},
   "source": []
  },
  {
   "cell_type": "code",
   "execution_count": null,
   "metadata": {},
   "outputs": [],
   "source": [
    "model_xgb = xgb.XGBRegressor(colsample_bytree=0.4603, gamma=0.0468, \n",
    "                             learning_rate=0.05, max_depth=3, \n",
    "                             min_child_weight=1.7817, n_estimators=2200,\n",
    "                             reg_alpha=0.4640, reg_lambda=0.8571,\n",
    "                             subsample=0.5213, silent=1,\n",
    "                             random_state =7, nthread = -1)"
   ]
  },
  {
   "cell_type": "markdown",
   "metadata": {},
   "source": [
    "### LGBM"
   ]
  },
  {
   "cell_type": "code",
   "execution_count": null,
   "metadata": {},
   "outputs": [],
   "source": [
    "lgb.plot_importance(model, figsize=(12, 25));"
   ]
  },
  {
   "cell_type": "code",
   "execution_count": 58,
   "metadata": {},
   "outputs": [
    {
     "data": {
      "text/plain": [
       "LGBMRegressor(boosting_type='gbdt', class_weight=None, colsample_bytree=1.0,\n",
       "       importance_type='split', learning_rate=0.1, max_depth=-1,\n",
       "       min_child_samples=20, min_child_weight=0.001, min_split_gain=0.0,\n",
       "       n_estimators=300, n_jobs=-1, num_leaves=31, objective=None,\n",
       "       random_state=None, reg_alpha=0.0, reg_lambda=0.0, silent=True,\n",
       "       subsample=1.0, subsample_for_bin=200000, subsample_freq=0)"
      ]
     },
     "execution_count": 58,
     "metadata": {},
     "output_type": "execute_result"
    }
   ],
   "source": [
    "lgbm_model = LGBMRegressor(n_estimators=300)\n",
    "lgbm_model.fit(X_train, y_train)"
   ]
  },
  {
   "cell_type": "code",
   "execution_count": 59,
   "metadata": {},
   "outputs": [],
   "source": [
    "y_pred_lgbm = lgbm_model.predict(X_test)"
   ]
  },
  {
   "cell_type": "code",
   "execution_count": 60,
   "metadata": {},
   "outputs": [
    {
     "name": "stdout",
     "output_type": "stream",
     "text": [
      "Train Score 0.69 & Test Score 0.45\n"
     ]
    }
   ],
   "source": [
    "print(\"Train Score {:.2f} & Test Score {:.2f}\".format(lgbm_model.score(X_train,y_train),lgbm_model.score(X_test,y_test)))"
   ]
  },
  {
   "cell_type": "markdown",
   "metadata": {},
   "source": []
  },
  {
   "cell_type": "code",
   "execution_count": null,
   "metadata": {},
   "outputs": [],
   "source": [
    "model_lgb = lgb.LGBMRegressor(objective='regression',num_leaves=5,\n",
    "                              learning_rate=0.05, n_estimators=720,\n",
    "                              max_bin = 55, bagging_fraction = 0.8,\n",
    "                              bagging_freq = 5, feature_fraction = 0.2319,\n",
    "                              feature_fraction_seed=9, bagging_seed=9,\n",
    "                              min_data_in_leaf =6, min_sum_hessian_in_leaf = 11)"
   ]
  },
  {
   "cell_type": "markdown",
   "metadata": {},
   "source": [
    "### Submission"
   ]
  },
  {
   "cell_type": "code",
   "execution_count": 61,
   "metadata": {},
   "outputs": [],
   "source": [
    "test = numeric_cols_test.iloc[:,:-1]"
   ]
  },
  {
   "cell_type": "code",
   "execution_count": 62,
   "metadata": {},
   "outputs": [
    {
     "data": {
      "text/plain": [
       "(1480, 6)"
      ]
     },
     "execution_count": 62,
     "metadata": {},
     "output_type": "execute_result"
    }
   ],
   "source": [
    "test.shape"
   ]
  },
  {
   "cell_type": "code",
   "execution_count": 63,
   "metadata": {
    "scrolled": false
   },
   "outputs": [
    {
     "data": {
      "text/plain": [
       "array([ 55.41158609, 222.39887028, 246.99959041, ...,  45.64246685,\n",
       "        74.1464022 ,  73.06876558])"
      ]
     },
     "execution_count": 63,
     "metadata": {},
     "output_type": "execute_result"
    }
   ],
   "source": [
    "y_pred_test = lgbm_model.predict(test)\n",
    "y_pred_test"
   ]
  },
  {
   "cell_type": "code",
   "execution_count": 64,
   "metadata": {},
   "outputs": [],
   "source": [
    "submission = pd.DataFrame({'price': test_original['price'], 'price': y_pred_test})\n",
    "submission.to_csv('Price.csv', index=False)"
   ]
  },
  {
   "cell_type": "code",
   "execution_count": null,
   "metadata": {},
   "outputs": [],
   "source": []
  }
 ],
 "metadata": {
  "kernelspec": {
   "display_name": "Python 3",
   "language": "python",
   "name": "python3"
  },
  "language_info": {
   "codemirror_mode": {
    "name": "ipython",
    "version": 3
   },
   "file_extension": ".py",
   "mimetype": "text/x-python",
   "name": "python",
   "nbconvert_exporter": "python",
   "pygments_lexer": "ipython3",
   "version": "3.7.3"
  }
 },
 "nbformat": 4,
 "nbformat_minor": 2
}
